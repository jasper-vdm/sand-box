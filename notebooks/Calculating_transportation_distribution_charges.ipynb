{
 "cells": [
  {
   "cell_type": "markdown",
   "metadata": {
    "pycharm": {
     "name": "#%% md\n"
    }
   },
   "source": [
    "# Calculating transportation distribution charges\n",
    "\n",
    "## 1. Task 1\n",
    "\n",
    "### 1.1 Task description\n",
    "\n",
    "Use **pandas** to calculate a transportation distribution charge for four gas meters in the United Kingdom. Save your code in a **Jupyter notebook** and upload to a public repo on **Github** (or any other platform of your choice). While solving this exercise, focus on efficiency - i.e., **use vectorised operations and avoid loops!**\n",
    "All data needed for the calculation can be found in the Excel file for this exercise.\n",
    "\n",
    "*Transportation distribution charges are levied by gas distribution companies for the use of their lower pressure pipelines; they cover the cost of physically transporting the gas through the pipeline. This rate is determined depending on a meter's exit zone (gas network region) and its estimated annual quantity (AQ); and it changes over time.*\n",
    "\n",
    "The daily charge is calculated by finding the correct rate for each meter and day in the forecast and multiplying this rate (in p/kWh) with the day's forecast (in kWh).\n",
    "\n",
    "Calculate the **total cost per meter** by summing its daily charges for the full forecast period and converting to Pounds (1p = 0.01£).\n",
    "\n",
    "Calculate the **total consumption per meter** by summing its daily consumption forecast for the full period.\n",
    "Your result should be a DataFrame of the following form with all numerical values rounded to 2 decimals:\n",
    "\n",
    "| Meter ID | Total Estimated Consumption (kWh) | Total Cost (£) |\n",
    "| ----------- | ----------- | ----------- |\n",
    "| 14676236 | | |\n",
    "| ... | | |\n",
    "| ... | | |\n",
    "\n",
    "\n",
    "<ins>*Example:*</ins>\n",
    "\n",
    "*Looking at meter **14676236** with exit zone **EA1** and an AQ of **28978 kWh**.*\n",
    "\n",
    "We can find the correct subset of rates in the rate table by selecting the correct exit zone and annual quantity band according to the meter properties. The AQ band is hereby determined by assuring the AQ is between the minimum AQ (*aq_min_kwh*, included) and the maximum AQ (*aq_max_kwh*, excluded, may be open-ended). For this meter, the following rates are found:\n",
    "\n",
    "**Rates determined for meter *14676236* :**\n",
    "\n",
    "| **date** | **exit_zone** | **aq_min_kwh** | **aq_max_kwh** | **rate_p_per_kwh** |\n",
    "| ----------- | ----------- | ----------- | ----------- | ----------- |\n",
    "| 2020-04-01 | EA1 | 0 | 73200 | 0.2652 |\n",
    "| 2020-10-01 | EA1 | 0 | 73200 | 0.2970 |\n",
    "| 2021-04-01 | EA1 | 0 | 73200 | 0.3327 |\n",
    "| 2021-10-01 | EA1 | 0 | 73200 | 0.3726 |\n",
    "| 2022-04-01 | EA1 | 0 | 73200 | 0.4173 |\n",
    "| 2022-10-01 | EA1 | 0 | 73200 | 0.4674 |\n",
    "| 2023-04-01 | EA1 | 0 | 73200 | 0.5235 |\n",
    "| 2023-10-01 | EA1 | 0 | 73200 | 0.5863 |\n",
    "| 2024-04-01 | EA1 | 0 | 73200 | 0.6566 |\n",
    "\n",
    "\n",
    "*The rate from 2020-04-01 to 2020-09-30 is 0.2652 p/kWh* \\\n",
    "*The rate from 2020-10-01 to 2021-03-31 is 0.2970 p/kWh* \\\n",
    "*...* \\\n",
    "*The rate from 2024-04-01 onwards is 0.6566 p/kWh*\n",
    "\n",
    "Calculate the cost per day for each meter by multiplying the forecast for that day (kWh) with the rate for that day (p/kWh) to obtain a cost in p.\n",
    "\n",
    "**Costs calculated for meter *14676236* :**\n",
    "\n",
    "On 2020-06-01: \\\n",
    "Cost: 0.2652 p/kWh * 22.070768 kWh = 5.85317 p \\\n",
    "On 2022-02-27 : \\\n",
    "Cost : 0.3726 p/kWh * 39.466673 kWh = 14.70528 p \\\n",
    "etc\n",
    "\n",
    "### 1.2 Task execution\n",
    "\n",
    "We start with loading all the available dataframes."
   ]
  },
  {
   "cell_type": "code",
   "execution_count": 1,
   "metadata": {
    "pycharm": {
     "name": "#%%\n"
    }
   },
   "outputs": [
    {
     "name": "stdout",
     "output_type": "stream",
     "text": [
      "Requirement already satisfied: pytest in /Library/Frameworks/Python.framework/Versions/3.8/lib/python3.8/site-packages (7.4.3)\n",
      "Requirement already satisfied: packaging in /Library/Frameworks/Python.framework/Versions/3.8/lib/python3.8/site-packages (from pytest) (21.3)\n",
      "Requirement already satisfied: pluggy<2.0,>=0.12 in /Library/Frameworks/Python.framework/Versions/3.8/lib/python3.8/site-packages (from pytest) (0.13.1)\n",
      "Requirement already satisfied: iniconfig in /Library/Frameworks/Python.framework/Versions/3.8/lib/python3.8/site-packages (from pytest) (2.0.0)\n",
      "Requirement already satisfied: exceptiongroup>=1.0.0rc8 in /Library/Frameworks/Python.framework/Versions/3.8/lib/python3.8/site-packages (from pytest) (1.2.0)\n",
      "Requirement already satisfied: tomli>=1.0.0 in /Library/Frameworks/Python.framework/Versions/3.8/lib/python3.8/site-packages (from pytest) (2.0.1)\n",
      "Requirement already satisfied: pyparsing!=3.0.5,>=2.0.2 in /Library/Frameworks/Python.framework/Versions/3.8/lib/python3.8/site-packages (from packaging->pytest) (2.4.7)\n",
      "\u001B[33mWARNING: You are using pip version 20.3.3; however, version 23.3.1 is available.\n",
      "You should consider upgrading via the '/Library/Frameworks/Python.framework/Versions/3.8/bin/python3.8 -m pip install --upgrade pip' command.\u001B[0m\n"
     ]
    }
   ],
   "source": [
    "import sys\n",
    "!{sys.executable} -m pip install pytest"
   ]
  },
  {
   "cell_type": "code",
   "execution_count": 2,
   "metadata": {
    "pycharm": {
     "name": "#%%\n"
    }
   },
   "outputs": [],
   "source": [
    "import numpy as np\n",
    "import pandas as pd\n",
    "import pytest"
   ]
  },
  {
   "cell_type": "code",
   "execution_count": 3,
   "metadata": {
    "pycharm": {
     "name": "#%%\n"
    }
   },
   "outputs": [
    {
     "data": {
      "text/plain": [
       "['meter_list', 'forecast_table', 'rate_table']"
      ]
     },
     "execution_count": 3,
     "metadata": {},
     "output_type": "execute_result"
    }
   ],
   "source": [
    "xl = pd.ExcelFile('gas_test_data.xlsx', engine='openpyxl')\n",
    "xl.sheet_names"
   ]
  },
  {
   "cell_type": "code",
   "execution_count": 4,
   "metadata": {
    "pycharm": {
     "name": "#%%\n"
    }
   },
   "outputs": [],
   "source": [
    "dict_df_calc = {sheet_name: xl.parse(sheet_name) for sheet_name in xl.sheet_names}"
   ]
  },
  {
   "cell_type": "markdown",
   "metadata": {
    "pycharm": {
     "name": "#%% md\n"
    }
   },
   "source": [
    "We look at the content of the loaded dataframes."
   ]
  },
  {
   "cell_type": "code",
   "execution_count": 5,
   "metadata": {
    "pycharm": {
     "name": "#%%\n"
    }
   },
   "outputs": [
    {
     "data": {
      "text/html": [
       "<div>\n",
       "<style scoped>\n",
       "    .dataframe tbody tr th:only-of-type {\n",
       "        vertical-align: middle;\n",
       "    }\n",
       "\n",
       "    .dataframe tbody tr th {\n",
       "        vertical-align: top;\n",
       "    }\n",
       "\n",
       "    .dataframe thead th {\n",
       "        text-align: right;\n",
       "    }\n",
       "</style>\n",
       "<table border=\"1\" class=\"dataframe\">\n",
       "  <thead>\n",
       "    <tr style=\"text-align: right;\">\n",
       "      <th></th>\n",
       "      <th>meter_id</th>\n",
       "      <th>aq_kwh</th>\n",
       "      <th>exit_zone</th>\n",
       "    </tr>\n",
       "  </thead>\n",
       "  <tbody>\n",
       "    <tr>\n",
       "      <th>0</th>\n",
       "      <td>14676236</td>\n",
       "      <td>28978</td>\n",
       "      <td>EA1</td>\n",
       "    </tr>\n",
       "    <tr>\n",
       "      <th>1</th>\n",
       "      <td>34509937</td>\n",
       "      <td>78324</td>\n",
       "      <td>SO1</td>\n",
       "    </tr>\n",
       "    <tr>\n",
       "      <th>2</th>\n",
       "      <td>50264822</td>\n",
       "      <td>265667</td>\n",
       "      <td>NT1</td>\n",
       "    </tr>\n",
       "    <tr>\n",
       "      <th>3</th>\n",
       "      <td>88357331</td>\n",
       "      <td>484399</td>\n",
       "      <td>SE2</td>\n",
       "    </tr>\n",
       "  </tbody>\n",
       "</table>\n",
       "</div>"
      ],
      "text/plain": [
       "   meter_id  aq_kwh exit_zone\n",
       "0  14676236   28978       EA1\n",
       "1  34509937   78324       SO1\n",
       "2  50264822  265667       NT1\n",
       "3  88357331  484399       SE2"
      ]
     },
     "execution_count": 5,
     "metadata": {},
     "output_type": "execute_result"
    }
   ],
   "source": [
    "dict_df_calc['meter_list']"
   ]
  },
  {
   "cell_type": "code",
   "execution_count": 6,
   "metadata": {
    "pycharm": {
     "name": "#%%\n"
    }
   },
   "outputs": [
    {
     "name": "stdout",
     "output_type": "stream",
     "text": [
      "<class 'pandas.core.frame.DataFrame'>\n",
      "RangeIndex: 4 entries, 0 to 3\n",
      "Data columns (total 3 columns):\n",
      " #   Column     Non-Null Count  Dtype \n",
      "---  ------     --------------  ----- \n",
      " 0   meter_id   4 non-null      int64 \n",
      " 1   aq_kwh     4 non-null      int64 \n",
      " 2   exit_zone  4 non-null      object\n",
      "dtypes: int64(2), object(1)\n",
      "memory usage: 224.0+ bytes\n"
     ]
    }
   ],
   "source": [
    "dict_df_calc['meter_list'].info()"
   ]
  },
  {
   "cell_type": "code",
   "execution_count": 7,
   "metadata": {
    "pycharm": {
     "name": "#%%\n"
    }
   },
   "outputs": [
    {
     "data": {
      "text/html": [
       "<div>\n",
       "<style scoped>\n",
       "    .dataframe tbody tr th:only-of-type {\n",
       "        vertical-align: middle;\n",
       "    }\n",
       "\n",
       "    .dataframe tbody tr th {\n",
       "        vertical-align: top;\n",
       "    }\n",
       "\n",
       "    .dataframe thead th {\n",
       "        text-align: right;\n",
       "    }\n",
       "</style>\n",
       "<table border=\"1\" class=\"dataframe\">\n",
       "  <thead>\n",
       "    <tr style=\"text-align: right;\">\n",
       "      <th></th>\n",
       "      <th>meter_id</th>\n",
       "      <th>date</th>\n",
       "      <th>kwh</th>\n",
       "    </tr>\n",
       "  </thead>\n",
       "  <tbody>\n",
       "    <tr>\n",
       "      <th>0</th>\n",
       "      <td>14676236</td>\n",
       "      <td>2020-06-01</td>\n",
       "      <td>22.070768</td>\n",
       "    </tr>\n",
       "    <tr>\n",
       "      <th>1</th>\n",
       "      <td>14676236</td>\n",
       "      <td>2020-06-02</td>\n",
       "      <td>19.170720</td>\n",
       "    </tr>\n",
       "    <tr>\n",
       "      <th>2</th>\n",
       "      <td>14676236</td>\n",
       "      <td>2020-06-03</td>\n",
       "      <td>23.555111</td>\n",
       "    </tr>\n",
       "    <tr>\n",
       "      <th>3</th>\n",
       "      <td>14676236</td>\n",
       "      <td>2020-06-04</td>\n",
       "      <td>18.220712</td>\n",
       "    </tr>\n",
       "    <tr>\n",
       "      <th>4</th>\n",
       "      <td>14676236</td>\n",
       "      <td>2020-06-05</td>\n",
       "      <td>14.196134</td>\n",
       "    </tr>\n",
       "    <tr>\n",
       "      <th>...</th>\n",
       "      <td>...</td>\n",
       "      <td>...</td>\n",
       "      <td>...</td>\n",
       "    </tr>\n",
       "    <tr>\n",
       "      <th>3407</th>\n",
       "      <td>88357331</td>\n",
       "      <td>2022-09-27</td>\n",
       "      <td>441.014725</td>\n",
       "    </tr>\n",
       "    <tr>\n",
       "      <th>3408</th>\n",
       "      <td>88357331</td>\n",
       "      <td>2022-09-28</td>\n",
       "      <td>441.512055</td>\n",
       "    </tr>\n",
       "    <tr>\n",
       "      <th>3409</th>\n",
       "      <td>88357331</td>\n",
       "      <td>2022-09-29</td>\n",
       "      <td>437.240657</td>\n",
       "    </tr>\n",
       "    <tr>\n",
       "      <th>3410</th>\n",
       "      <td>88357331</td>\n",
       "      <td>2022-09-30</td>\n",
       "      <td>517.608354</td>\n",
       "    </tr>\n",
       "    <tr>\n",
       "      <th>3411</th>\n",
       "      <td>88357331</td>\n",
       "      <td>2022-10-01</td>\n",
       "      <td>460.535505</td>\n",
       "    </tr>\n",
       "  </tbody>\n",
       "</table>\n",
       "<p>3412 rows × 3 columns</p>\n",
       "</div>"
      ],
      "text/plain": [
       "      meter_id       date         kwh\n",
       "0     14676236 2020-06-01   22.070768\n",
       "1     14676236 2020-06-02   19.170720\n",
       "2     14676236 2020-06-03   23.555111\n",
       "3     14676236 2020-06-04   18.220712\n",
       "4     14676236 2020-06-05   14.196134\n",
       "...        ...        ...         ...\n",
       "3407  88357331 2022-09-27  441.014725\n",
       "3408  88357331 2022-09-28  441.512055\n",
       "3409  88357331 2022-09-29  437.240657\n",
       "3410  88357331 2022-09-30  517.608354\n",
       "3411  88357331 2022-10-01  460.535505\n",
       "\n",
       "[3412 rows x 3 columns]"
      ]
     },
     "execution_count": 7,
     "metadata": {},
     "output_type": "execute_result"
    }
   ],
   "source": [
    "dict_df_calc['forecast_table']"
   ]
  },
  {
   "cell_type": "code",
   "execution_count": 8,
   "metadata": {
    "pycharm": {
     "name": "#%%\n"
    }
   },
   "outputs": [
    {
     "name": "stdout",
     "output_type": "stream",
     "text": [
      "<class 'pandas.core.frame.DataFrame'>\n",
      "RangeIndex: 3412 entries, 0 to 3411\n",
      "Data columns (total 3 columns):\n",
      " #   Column    Non-Null Count  Dtype         \n",
      "---  ------    --------------  -----         \n",
      " 0   meter_id  3412 non-null   int64         \n",
      " 1   date      3412 non-null   datetime64[ns]\n",
      " 2   kwh       3412 non-null   float64       \n",
      "dtypes: datetime64[ns](1), float64(1), int64(1)\n",
      "memory usage: 80.1 KB\n"
     ]
    }
   ],
   "source": [
    "dict_df_calc['forecast_table'].info()"
   ]
  },
  {
   "cell_type": "code",
   "execution_count": 9,
   "metadata": {
    "pycharm": {
     "name": "#%%\n"
    }
   },
   "outputs": [
    {
     "data": {
      "text/html": [
       "<div>\n",
       "<style scoped>\n",
       "    .dataframe tbody tr th:only-of-type {\n",
       "        vertical-align: middle;\n",
       "    }\n",
       "\n",
       "    .dataframe tbody tr th {\n",
       "        vertical-align: top;\n",
       "    }\n",
       "\n",
       "    .dataframe thead th {\n",
       "        text-align: right;\n",
       "    }\n",
       "</style>\n",
       "<table border=\"1\" class=\"dataframe\">\n",
       "  <thead>\n",
       "    <tr style=\"text-align: right;\">\n",
       "      <th></th>\n",
       "      <th>date</th>\n",
       "      <th>exit_zone</th>\n",
       "      <th>aq_min_kwh</th>\n",
       "      <th>aq_max_kwh</th>\n",
       "      <th>rate_p_per_kwh</th>\n",
       "    </tr>\n",
       "  </thead>\n",
       "  <tbody>\n",
       "    <tr>\n",
       "      <th>0</th>\n",
       "      <td>2020-04-01</td>\n",
       "      <td>EA1</td>\n",
       "      <td>0</td>\n",
       "      <td>73200.0</td>\n",
       "      <td>0.2652</td>\n",
       "    </tr>\n",
       "    <tr>\n",
       "      <th>1</th>\n",
       "      <td>2020-04-01</td>\n",
       "      <td>EA1</td>\n",
       "      <td>73200</td>\n",
       "      <td>732000.0</td>\n",
       "      <td>0.1980</td>\n",
       "    </tr>\n",
       "    <tr>\n",
       "      <th>2</th>\n",
       "      <td>2020-04-01</td>\n",
       "      <td>EA1</td>\n",
       "      <td>732000</td>\n",
       "      <td>NaN</td>\n",
       "      <td>0.2875</td>\n",
       "    </tr>\n",
       "    <tr>\n",
       "      <th>3</th>\n",
       "      <td>2020-04-01</td>\n",
       "      <td>EA2</td>\n",
       "      <td>0</td>\n",
       "      <td>73200.0</td>\n",
       "      <td>0.2970</td>\n",
       "    </tr>\n",
       "    <tr>\n",
       "      <th>4</th>\n",
       "      <td>2020-04-01</td>\n",
       "      <td>EA2</td>\n",
       "      <td>73200</td>\n",
       "      <td>732000.0</td>\n",
       "      <td>0.1524</td>\n",
       "    </tr>\n",
       "    <tr>\n",
       "      <th>...</th>\n",
       "      <td>...</td>\n",
       "      <td>...</td>\n",
       "      <td>...</td>\n",
       "      <td>...</td>\n",
       "      <td>...</td>\n",
       "    </tr>\n",
       "    <tr>\n",
       "      <th>1135</th>\n",
       "      <td>2024-10-01</td>\n",
       "      <td>WM2</td>\n",
       "      <td>73200</td>\n",
       "      <td>732000.0</td>\n",
       "      <td>0.4537</td>\n",
       "    </tr>\n",
       "    <tr>\n",
       "      <th>1136</th>\n",
       "      <td>2024-10-01</td>\n",
       "      <td>WM2</td>\n",
       "      <td>732000</td>\n",
       "      <td>NaN</td>\n",
       "      <td>0.7534</td>\n",
       "    </tr>\n",
       "    <tr>\n",
       "      <th>1137</th>\n",
       "      <td>2024-10-01</td>\n",
       "      <td>WM3</td>\n",
       "      <td>0</td>\n",
       "      <td>73200.0</td>\n",
       "      <td>0.7263</td>\n",
       "    </tr>\n",
       "    <tr>\n",
       "      <th>1138</th>\n",
       "      <td>2024-10-01</td>\n",
       "      <td>WM3</td>\n",
       "      <td>73200</td>\n",
       "      <td>732000.0</td>\n",
       "      <td>0.6109</td>\n",
       "    </tr>\n",
       "    <tr>\n",
       "      <th>1139</th>\n",
       "      <td>2024-10-01</td>\n",
       "      <td>WM3</td>\n",
       "      <td>732000</td>\n",
       "      <td>NaN</td>\n",
       "      <td>0.4928</td>\n",
       "    </tr>\n",
       "  </tbody>\n",
       "</table>\n",
       "<p>1140 rows × 5 columns</p>\n",
       "</div>"
      ],
      "text/plain": [
       "           date exit_zone  aq_min_kwh  aq_max_kwh  rate_p_per_kwh\n",
       "0    2020-04-01       EA1           0     73200.0          0.2652\n",
       "1    2020-04-01       EA1       73200    732000.0          0.1980\n",
       "2    2020-04-01       EA1      732000         NaN          0.2875\n",
       "3    2020-04-01       EA2           0     73200.0          0.2970\n",
       "4    2020-04-01       EA2       73200    732000.0          0.1524\n",
       "...         ...       ...         ...         ...             ...\n",
       "1135 2024-10-01       WM2       73200    732000.0          0.4537\n",
       "1136 2024-10-01       WM2      732000         NaN          0.7534\n",
       "1137 2024-10-01       WM3           0     73200.0          0.7263\n",
       "1138 2024-10-01       WM3       73200    732000.0          0.6109\n",
       "1139 2024-10-01       WM3      732000         NaN          0.4928\n",
       "\n",
       "[1140 rows x 5 columns]"
      ]
     },
     "execution_count": 9,
     "metadata": {},
     "output_type": "execute_result"
    }
   ],
   "source": [
    "dict_df_calc['rate_table']"
   ]
  },
  {
   "cell_type": "code",
   "execution_count": 10,
   "metadata": {
    "pycharm": {
     "name": "#%%\n"
    }
   },
   "outputs": [
    {
     "name": "stdout",
     "output_type": "stream",
     "text": [
      "<class 'pandas.core.frame.DataFrame'>\n",
      "RangeIndex: 1140 entries, 0 to 1139\n",
      "Data columns (total 5 columns):\n",
      " #   Column          Non-Null Count  Dtype         \n",
      "---  ------          --------------  -----         \n",
      " 0   date            1140 non-null   datetime64[ns]\n",
      " 1   exit_zone       1140 non-null   object        \n",
      " 2   aq_min_kwh      1140 non-null   int64         \n",
      " 3   aq_max_kwh      760 non-null    float64       \n",
      " 4   rate_p_per_kwh  1140 non-null   float64       \n",
      "dtypes: datetime64[ns](1), float64(2), int64(1), object(1)\n",
      "memory usage: 44.7+ KB\n"
     ]
    }
   ],
   "source": [
    "dict_df_calc['rate_table'].info()"
   ]
  },
  {
   "cell_type": "markdown",
   "metadata": {
    "pycharm": {
     "name": "#%% md\n"
    }
   },
   "source": [
    "We first want to create *df_rate_table* based on *dict_df_calc['rate_table']* in which the max_date for each of the rates are specified."
   ]
  },
  {
   "cell_type": "code",
   "execution_count": 11,
   "metadata": {
    "pycharm": {
     "name": "#%%\n"
    }
   },
   "outputs": [
    {
     "data": {
      "text/plain": [
       "array(['2020-04-01T00:00:00.000000000', '2020-10-01T00:00:00.000000000',\n",
       "       '2021-04-01T00:00:00.000000000', '2021-10-01T00:00:00.000000000',\n",
       "       '2022-04-01T00:00:00.000000000', '2022-10-01T00:00:00.000000000',\n",
       "       '2023-04-01T00:00:00.000000000', '2023-10-01T00:00:00.000000000',\n",
       "       '2024-04-01T00:00:00.000000000', '2024-10-01T00:00:00.000000000'],\n",
       "      dtype='datetime64[ns]')"
      ]
     },
     "execution_count": 11,
     "metadata": {},
     "output_type": "execute_result"
    }
   ],
   "source": [
    "unique_dates = dict_df_calc['rate_table']['date'].unique()\n",
    "unique_dates"
   ]
  },
  {
   "cell_type": "code",
   "execution_count": 12,
   "metadata": {
    "pycharm": {
     "name": "#%%\n"
    }
   },
   "outputs": [
    {
     "data": {
      "text/plain": [
       "array(['2020-09-30T00:00:00.000000000', '2021-03-31T00:00:00.000000000',\n",
       "       '2021-09-30T00:00:00.000000000', '2022-03-31T00:00:00.000000000',\n",
       "       '2022-09-30T00:00:00.000000000', '2023-03-31T00:00:00.000000000',\n",
       "       '2023-09-30T00:00:00.000000000', '2024-03-31T00:00:00.000000000',\n",
       "       '2024-09-30T00:00:00.000000000', '2034-09-30T00:00:00.000000000'],\n",
       "      dtype='datetime64[ns]')"
      ]
     },
     "execution_count": 12,
     "metadata": {},
     "output_type": "execute_result"
    }
   ],
   "source": [
    "# we subtract 1 day of each of the unique dates\n",
    "max_dates = unique_dates - np.timedelta64(1, 'D')\n",
    "# the first day is removed to get the max dates in the right position compared to the unique_dates\n",
    "# and the last max date is put 10 years after the previous date to represent 'onwards'\n",
    "max_dates = np.append(max_dates[1:len(max_dates)], max_dates[-1] + np.timedelta64(3652, 'D'))\n",
    "max_dates"
   ]
  },
  {
   "cell_type": "code",
   "execution_count": 13,
   "metadata": {
    "pycharm": {
     "name": "#%%\n"
    }
   },
   "outputs": [
    {
     "data": {
      "text/html": [
       "<div>\n",
       "<style scoped>\n",
       "    .dataframe tbody tr th:only-of-type {\n",
       "        vertical-align: middle;\n",
       "    }\n",
       "\n",
       "    .dataframe tbody tr th {\n",
       "        vertical-align: top;\n",
       "    }\n",
       "\n",
       "    .dataframe thead th {\n",
       "        text-align: right;\n",
       "    }\n",
       "</style>\n",
       "<table border=\"1\" class=\"dataframe\">\n",
       "  <thead>\n",
       "    <tr style=\"text-align: right;\">\n",
       "      <th></th>\n",
       "      <th>date</th>\n",
       "      <th>max_date</th>\n",
       "    </tr>\n",
       "  </thead>\n",
       "  <tbody>\n",
       "    <tr>\n",
       "      <th>0</th>\n",
       "      <td>2020-04-01</td>\n",
       "      <td>2020-09-30</td>\n",
       "    </tr>\n",
       "    <tr>\n",
       "      <th>1</th>\n",
       "      <td>2020-10-01</td>\n",
       "      <td>2021-03-31</td>\n",
       "    </tr>\n",
       "    <tr>\n",
       "      <th>2</th>\n",
       "      <td>2021-04-01</td>\n",
       "      <td>2021-09-30</td>\n",
       "    </tr>\n",
       "    <tr>\n",
       "      <th>3</th>\n",
       "      <td>2021-10-01</td>\n",
       "      <td>2022-03-31</td>\n",
       "    </tr>\n",
       "    <tr>\n",
       "      <th>4</th>\n",
       "      <td>2022-04-01</td>\n",
       "      <td>2022-09-30</td>\n",
       "    </tr>\n",
       "    <tr>\n",
       "      <th>5</th>\n",
       "      <td>2022-10-01</td>\n",
       "      <td>2023-03-31</td>\n",
       "    </tr>\n",
       "    <tr>\n",
       "      <th>6</th>\n",
       "      <td>2023-04-01</td>\n",
       "      <td>2023-09-30</td>\n",
       "    </tr>\n",
       "    <tr>\n",
       "      <th>7</th>\n",
       "      <td>2023-10-01</td>\n",
       "      <td>2024-03-31</td>\n",
       "    </tr>\n",
       "    <tr>\n",
       "      <th>8</th>\n",
       "      <td>2024-04-01</td>\n",
       "      <td>2024-09-30</td>\n",
       "    </tr>\n",
       "    <tr>\n",
       "      <th>9</th>\n",
       "      <td>2024-10-01</td>\n",
       "      <td>2034-09-30</td>\n",
       "    </tr>\n",
       "  </tbody>\n",
       "</table>\n",
       "</div>"
      ],
      "text/plain": [
       "        date   max_date\n",
       "0 2020-04-01 2020-09-30\n",
       "1 2020-10-01 2021-03-31\n",
       "2 2021-04-01 2021-09-30\n",
       "3 2021-10-01 2022-03-31\n",
       "4 2022-04-01 2022-09-30\n",
       "5 2022-10-01 2023-03-31\n",
       "6 2023-04-01 2023-09-30\n",
       "7 2023-10-01 2024-03-31\n",
       "8 2024-04-01 2024-09-30\n",
       "9 2024-10-01 2034-09-30"
      ]
     },
     "execution_count": 13,
     "metadata": {},
     "output_type": "execute_result"
    }
   ],
   "source": [
    "# the date and max_date are summarized in df_rate_dates\n",
    "df_rate_dates = pd.DataFrame()\n",
    "df_rate_dates['date'] = unique_dates\n",
    "df_rate_dates['max_date'] = max_dates\n",
    "df_rate_dates"
   ]
  },
  {
   "cell_type": "code",
   "execution_count": 14,
   "metadata": {
    "pycharm": {
     "name": "#%%\n"
    }
   },
   "outputs": [
    {
     "data": {
      "text/plain": [
       "array(['min_date', 'max_date', 'exit_zone', 'aq_min_kwh', 'aq_max_kwh',\n",
       "       'rate_p_per_kwh'], dtype='<U14')"
      ]
     },
     "execution_count": 14,
     "metadata": {},
     "output_type": "execute_result"
    }
   ],
   "source": [
    "# specify order columns df_rate_table (purely for easier readability)\n",
    "cols_df_rate_table = np.append(['min_date', 'max_date'], dict_df_calc['rate_table'].columns.to_list()[1:])\n",
    "cols_df_rate_table"
   ]
  },
  {
   "cell_type": "code",
   "execution_count": 15,
   "metadata": {
    "pycharm": {
     "name": "#%%\n"
    }
   },
   "outputs": [
    {
     "data": {
      "text/html": [
       "<div>\n",
       "<style scoped>\n",
       "    .dataframe tbody tr th:only-of-type {\n",
       "        vertical-align: middle;\n",
       "    }\n",
       "\n",
       "    .dataframe tbody tr th {\n",
       "        vertical-align: top;\n",
       "    }\n",
       "\n",
       "    .dataframe thead th {\n",
       "        text-align: right;\n",
       "    }\n",
       "</style>\n",
       "<table border=\"1\" class=\"dataframe\">\n",
       "  <thead>\n",
       "    <tr style=\"text-align: right;\">\n",
       "      <th></th>\n",
       "      <th>min_date</th>\n",
       "      <th>max_date</th>\n",
       "      <th>exit_zone</th>\n",
       "      <th>aq_min_kwh</th>\n",
       "      <th>aq_max_kwh</th>\n",
       "      <th>rate_p_per_kwh</th>\n",
       "    </tr>\n",
       "  </thead>\n",
       "  <tbody>\n",
       "    <tr>\n",
       "      <th>0</th>\n",
       "      <td>2020-04-01</td>\n",
       "      <td>2020-09-30</td>\n",
       "      <td>EA1</td>\n",
       "      <td>0</td>\n",
       "      <td>73200</td>\n",
       "      <td>0.2652</td>\n",
       "    </tr>\n",
       "    <tr>\n",
       "      <th>1</th>\n",
       "      <td>2020-04-01</td>\n",
       "      <td>2020-09-30</td>\n",
       "      <td>EA1</td>\n",
       "      <td>73200</td>\n",
       "      <td>732000</td>\n",
       "      <td>0.1980</td>\n",
       "    </tr>\n",
       "    <tr>\n",
       "      <th>2</th>\n",
       "      <td>2020-04-01</td>\n",
       "      <td>2020-09-30</td>\n",
       "      <td>EA1</td>\n",
       "      <td>732000</td>\n",
       "      <td>7320000</td>\n",
       "      <td>0.2875</td>\n",
       "    </tr>\n",
       "    <tr>\n",
       "      <th>3</th>\n",
       "      <td>2020-04-01</td>\n",
       "      <td>2020-09-30</td>\n",
       "      <td>EA2</td>\n",
       "      <td>0</td>\n",
       "      <td>73200</td>\n",
       "      <td>0.2970</td>\n",
       "    </tr>\n",
       "    <tr>\n",
       "      <th>4</th>\n",
       "      <td>2020-04-01</td>\n",
       "      <td>2020-09-30</td>\n",
       "      <td>EA2</td>\n",
       "      <td>73200</td>\n",
       "      <td>732000</td>\n",
       "      <td>0.1524</td>\n",
       "    </tr>\n",
       "    <tr>\n",
       "      <th>...</th>\n",
       "      <td>...</td>\n",
       "      <td>...</td>\n",
       "      <td>...</td>\n",
       "      <td>...</td>\n",
       "      <td>...</td>\n",
       "      <td>...</td>\n",
       "    </tr>\n",
       "    <tr>\n",
       "      <th>1135</th>\n",
       "      <td>2024-10-01</td>\n",
       "      <td>2034-09-30</td>\n",
       "      <td>WM2</td>\n",
       "      <td>73200</td>\n",
       "      <td>732000</td>\n",
       "      <td>0.4537</td>\n",
       "    </tr>\n",
       "    <tr>\n",
       "      <th>1136</th>\n",
       "      <td>2024-10-01</td>\n",
       "      <td>2034-09-30</td>\n",
       "      <td>WM2</td>\n",
       "      <td>732000</td>\n",
       "      <td>7320000</td>\n",
       "      <td>0.7534</td>\n",
       "    </tr>\n",
       "    <tr>\n",
       "      <th>1137</th>\n",
       "      <td>2024-10-01</td>\n",
       "      <td>2034-09-30</td>\n",
       "      <td>WM3</td>\n",
       "      <td>0</td>\n",
       "      <td>73200</td>\n",
       "      <td>0.7263</td>\n",
       "    </tr>\n",
       "    <tr>\n",
       "      <th>1138</th>\n",
       "      <td>2024-10-01</td>\n",
       "      <td>2034-09-30</td>\n",
       "      <td>WM3</td>\n",
       "      <td>73200</td>\n",
       "      <td>732000</td>\n",
       "      <td>0.6109</td>\n",
       "    </tr>\n",
       "    <tr>\n",
       "      <th>1139</th>\n",
       "      <td>2024-10-01</td>\n",
       "      <td>2034-09-30</td>\n",
       "      <td>WM3</td>\n",
       "      <td>732000</td>\n",
       "      <td>7320000</td>\n",
       "      <td>0.4928</td>\n",
       "    </tr>\n",
       "  </tbody>\n",
       "</table>\n",
       "<p>1140 rows × 6 columns</p>\n",
       "</div>"
      ],
      "text/plain": [
       "       min_date   max_date exit_zone  aq_min_kwh  aq_max_kwh  rate_p_per_kwh\n",
       "0    2020-04-01 2020-09-30       EA1           0       73200          0.2652\n",
       "1    2020-04-01 2020-09-30       EA1       73200      732000          0.1980\n",
       "2    2020-04-01 2020-09-30       EA1      732000     7320000          0.2875\n",
       "3    2020-04-01 2020-09-30       EA2           0       73200          0.2970\n",
       "4    2020-04-01 2020-09-30       EA2       73200      732000          0.1524\n",
       "...         ...        ...       ...         ...         ...             ...\n",
       "1135 2024-10-01 2034-09-30       WM2       73200      732000          0.4537\n",
       "1136 2024-10-01 2034-09-30       WM2      732000     7320000          0.7534\n",
       "1137 2024-10-01 2034-09-30       WM3           0       73200          0.7263\n",
       "1138 2024-10-01 2034-09-30       WM3       73200      732000          0.6109\n",
       "1139 2024-10-01 2034-09-30       WM3      732000     7320000          0.4928\n",
       "\n",
       "[1140 rows x 6 columns]"
      ]
     },
     "execution_count": 15,
     "metadata": {},
     "output_type": "execute_result"
    }
   ],
   "source": [
    "# creation of df_rate_table based on df_rate_dates and the fact that the date column represents the min date\n",
    "df_rate_table = (\n",
    "    dict_df_calc['rate_table']\n",
    "    .merge(df_rate_dates, on='date')\n",
    "    .rename(columns={'date': 'min_date'})\n",
    "    [cols_df_rate_table]\n",
    ")\n",
    "# we also have to replace the NaN in aq_max_kwh by a very large number (we put 7320000)\n",
    "df_rate_table[['aq_max_kwh']] = df_rate_table[['aq_max_kwh']].fillna(7320000).astype(int)\n",
    "df_rate_table"
   ]
  },
  {
   "cell_type": "markdown",
   "metadata": {
    "pycharm": {
     "name": "#%% md\n"
    }
   },
   "source": [
    "We create an extended forecast table *df_forecast_table_ext* to easily execute the calculations."
   ]
  },
  {
   "cell_type": "code",
   "execution_count": 16,
   "metadata": {
    "pycharm": {
     "name": "#%%\n"
    }
   },
   "outputs": [
    {
     "data": {
      "text/html": [
       "<div>\n",
       "<style scoped>\n",
       "    .dataframe tbody tr th:only-of-type {\n",
       "        vertical-align: middle;\n",
       "    }\n",
       "\n",
       "    .dataframe tbody tr th {\n",
       "        vertical-align: top;\n",
       "    }\n",
       "\n",
       "    .dataframe thead th {\n",
       "        text-align: right;\n",
       "    }\n",
       "</style>\n",
       "<table border=\"1\" class=\"dataframe\">\n",
       "  <thead>\n",
       "    <tr style=\"text-align: right;\">\n",
       "      <th></th>\n",
       "      <th>meter_id</th>\n",
       "      <th>date</th>\n",
       "      <th>kwh</th>\n",
       "      <th>aq_kwh</th>\n",
       "      <th>exit_zone</th>\n",
       "      <th>min_date</th>\n",
       "      <th>max_date</th>\n",
       "      <th>aq_min_kwh</th>\n",
       "      <th>aq_max_kwh</th>\n",
       "      <th>rate_p_per_kwh</th>\n",
       "    </tr>\n",
       "  </thead>\n",
       "  <tbody>\n",
       "    <tr>\n",
       "      <th>0</th>\n",
       "      <td>14676236</td>\n",
       "      <td>2020-06-01</td>\n",
       "      <td>22.070768</td>\n",
       "      <td>28978</td>\n",
       "      <td>EA1</td>\n",
       "      <td>2020-04-01</td>\n",
       "      <td>2020-09-30</td>\n",
       "      <td>0</td>\n",
       "      <td>73200</td>\n",
       "      <td>0.2652</td>\n",
       "    </tr>\n",
       "    <tr>\n",
       "      <th>1</th>\n",
       "      <td>14676236</td>\n",
       "      <td>2020-06-02</td>\n",
       "      <td>19.170720</td>\n",
       "      <td>28978</td>\n",
       "      <td>EA1</td>\n",
       "      <td>2020-04-01</td>\n",
       "      <td>2020-09-30</td>\n",
       "      <td>0</td>\n",
       "      <td>73200</td>\n",
       "      <td>0.2652</td>\n",
       "    </tr>\n",
       "    <tr>\n",
       "      <th>2</th>\n",
       "      <td>14676236</td>\n",
       "      <td>2020-06-03</td>\n",
       "      <td>23.555111</td>\n",
       "      <td>28978</td>\n",
       "      <td>EA1</td>\n",
       "      <td>2020-04-01</td>\n",
       "      <td>2020-09-30</td>\n",
       "      <td>0</td>\n",
       "      <td>73200</td>\n",
       "      <td>0.2652</td>\n",
       "    </tr>\n",
       "    <tr>\n",
       "      <th>3</th>\n",
       "      <td>14676236</td>\n",
       "      <td>2020-06-04</td>\n",
       "      <td>18.220712</td>\n",
       "      <td>28978</td>\n",
       "      <td>EA1</td>\n",
       "      <td>2020-04-01</td>\n",
       "      <td>2020-09-30</td>\n",
       "      <td>0</td>\n",
       "      <td>73200</td>\n",
       "      <td>0.2652</td>\n",
       "    </tr>\n",
       "    <tr>\n",
       "      <th>4</th>\n",
       "      <td>14676236</td>\n",
       "      <td>2020-06-05</td>\n",
       "      <td>14.196134</td>\n",
       "      <td>28978</td>\n",
       "      <td>EA1</td>\n",
       "      <td>2020-04-01</td>\n",
       "      <td>2020-09-30</td>\n",
       "      <td>0</td>\n",
       "      <td>73200</td>\n",
       "      <td>0.2652</td>\n",
       "    </tr>\n",
       "    <tr>\n",
       "      <th>...</th>\n",
       "      <td>...</td>\n",
       "      <td>...</td>\n",
       "      <td>...</td>\n",
       "      <td>...</td>\n",
       "      <td>...</td>\n",
       "      <td>...</td>\n",
       "      <td>...</td>\n",
       "      <td>...</td>\n",
       "      <td>...</td>\n",
       "      <td>...</td>\n",
       "    </tr>\n",
       "    <tr>\n",
       "      <th>3407</th>\n",
       "      <td>88357331</td>\n",
       "      <td>2022-09-27</td>\n",
       "      <td>441.014725</td>\n",
       "      <td>484399</td>\n",
       "      <td>SE2</td>\n",
       "      <td>2022-04-01</td>\n",
       "      <td>2022-09-30</td>\n",
       "      <td>73200</td>\n",
       "      <td>732000</td>\n",
       "      <td>0.3647</td>\n",
       "    </tr>\n",
       "    <tr>\n",
       "      <th>3408</th>\n",
       "      <td>88357331</td>\n",
       "      <td>2022-09-28</td>\n",
       "      <td>441.512055</td>\n",
       "      <td>484399</td>\n",
       "      <td>SE2</td>\n",
       "      <td>2022-04-01</td>\n",
       "      <td>2022-09-30</td>\n",
       "      <td>73200</td>\n",
       "      <td>732000</td>\n",
       "      <td>0.3647</td>\n",
       "    </tr>\n",
       "    <tr>\n",
       "      <th>3409</th>\n",
       "      <td>88357331</td>\n",
       "      <td>2022-09-29</td>\n",
       "      <td>437.240657</td>\n",
       "      <td>484399</td>\n",
       "      <td>SE2</td>\n",
       "      <td>2022-04-01</td>\n",
       "      <td>2022-09-30</td>\n",
       "      <td>73200</td>\n",
       "      <td>732000</td>\n",
       "      <td>0.3647</td>\n",
       "    </tr>\n",
       "    <tr>\n",
       "      <th>3410</th>\n",
       "      <td>88357331</td>\n",
       "      <td>2022-09-30</td>\n",
       "      <td>517.608354</td>\n",
       "      <td>484399</td>\n",
       "      <td>SE2</td>\n",
       "      <td>2022-04-01</td>\n",
       "      <td>2022-09-30</td>\n",
       "      <td>73200</td>\n",
       "      <td>732000</td>\n",
       "      <td>0.3647</td>\n",
       "    </tr>\n",
       "    <tr>\n",
       "      <th>3411</th>\n",
       "      <td>88357331</td>\n",
       "      <td>2022-10-01</td>\n",
       "      <td>460.535505</td>\n",
       "      <td>484399</td>\n",
       "      <td>SE2</td>\n",
       "      <td>2022-10-01</td>\n",
       "      <td>2023-03-31</td>\n",
       "      <td>73200</td>\n",
       "      <td>732000</td>\n",
       "      <td>0.4085</td>\n",
       "    </tr>\n",
       "  </tbody>\n",
       "</table>\n",
       "<p>3412 rows × 10 columns</p>\n",
       "</div>"
      ],
      "text/plain": [
       "      meter_id       date         kwh  aq_kwh exit_zone   min_date   max_date  \\\n",
       "0     14676236 2020-06-01   22.070768   28978       EA1 2020-04-01 2020-09-30   \n",
       "1     14676236 2020-06-02   19.170720   28978       EA1 2020-04-01 2020-09-30   \n",
       "2     14676236 2020-06-03   23.555111   28978       EA1 2020-04-01 2020-09-30   \n",
       "3     14676236 2020-06-04   18.220712   28978       EA1 2020-04-01 2020-09-30   \n",
       "4     14676236 2020-06-05   14.196134   28978       EA1 2020-04-01 2020-09-30   \n",
       "...        ...        ...         ...     ...       ...        ...        ...   \n",
       "3407  88357331 2022-09-27  441.014725  484399       SE2 2022-04-01 2022-09-30   \n",
       "3408  88357331 2022-09-28  441.512055  484399       SE2 2022-04-01 2022-09-30   \n",
       "3409  88357331 2022-09-29  437.240657  484399       SE2 2022-04-01 2022-09-30   \n",
       "3410  88357331 2022-09-30  517.608354  484399       SE2 2022-04-01 2022-09-30   \n",
       "3411  88357331 2022-10-01  460.535505  484399       SE2 2022-10-01 2023-03-31   \n",
       "\n",
       "      aq_min_kwh  aq_max_kwh  rate_p_per_kwh  \n",
       "0              0       73200          0.2652  \n",
       "1              0       73200          0.2652  \n",
       "2              0       73200          0.2652  \n",
       "3              0       73200          0.2652  \n",
       "4              0       73200          0.2652  \n",
       "...          ...         ...             ...  \n",
       "3407       73200      732000          0.3647  \n",
       "3408       73200      732000          0.3647  \n",
       "3409       73200      732000          0.3647  \n",
       "3410       73200      732000          0.3647  \n",
       "3411       73200      732000          0.4085  \n",
       "\n",
       "[3412 rows x 10 columns]"
      ]
     },
     "execution_count": 16,
     "metadata": {},
     "output_type": "execute_result"
    }
   ],
   "source": [
    "df_forecast_table_ext = (\n",
    "    # 1. start with forecast_table\n",
    "    dict_df_calc['forecast_table']\n",
    "    # 2. meter_id is the column linking meter_list to forecast_table\n",
    "    .merge(dict_df_calc['meter_list'], on='meter_id')\n",
    "    # 3. merge df_rate_table on exit_zone only\n",
    "    .merge(df_rate_table, on='exit_zone')\n",
    "    # 4. filter on annual quantity band\n",
    "    .query('aq_kwh >= aq_min_kwh and aq_kwh < aq_max_kwh')\n",
    "    # 4b. TEST filter on annual quantity band\n",
    "    # .groupby(['meter_id', 'aq_kwh', 'aq_min_kwh', 'aq_max_kwh']).count()\n",
    "    # 5. filter on date\n",
    "    .query('date >= min_date and date <= max_date')\n",
    "    # 5b. TEST filter on date\n",
    "    # .groupby(['date', 'min_date', 'max_date']).count()\n",
    "    # 6. clean index\n",
    "    .reset_index(drop=True)\n",
    ")\n",
    "df_forecast_table_ext"
   ]
  },
  {
   "cell_type": "markdown",
   "metadata": {
    "pycharm": {
     "name": "#%% md\n"
    }
   },
   "source": [
    "Next, we can create the **df_result** requested in the task description.\n",
    "1. Calculate the **total cost per meter** by summing its daily charges for the full forecast period and converting to Pounds (1p = 0.01£).\n",
    "2. Calculate the **total consumption per meter** by summing its daily consumption forecast for the full period."
   ]
  },
  {
   "cell_type": "code",
   "execution_count": 17,
   "metadata": {
    "pycharm": {
     "name": "#%%\n"
    }
   },
   "outputs": [
    {
     "data": {
      "text/html": [
       "<div>\n",
       "<style scoped>\n",
       "    .dataframe tbody tr th:only-of-type {\n",
       "        vertical-align: middle;\n",
       "    }\n",
       "\n",
       "    .dataframe tbody tr th {\n",
       "        vertical-align: top;\n",
       "    }\n",
       "\n",
       "    .dataframe thead th {\n",
       "        text-align: right;\n",
       "    }\n",
       "</style>\n",
       "<table border=\"1\" class=\"dataframe\">\n",
       "  <thead>\n",
       "    <tr style=\"text-align: right;\">\n",
       "      <th></th>\n",
       "      <th>meter_id</th>\n",
       "      <th>Total Estimated Consumption (kWh)</th>\n",
       "      <th>Total Cost (£)</th>\n",
       "    </tr>\n",
       "  </thead>\n",
       "  <tbody>\n",
       "    <tr>\n",
       "      <th>0</th>\n",
       "      <td>14676236</td>\n",
       "      <td>28978.0</td>\n",
       "      <td>100.15</td>\n",
       "    </tr>\n",
       "    <tr>\n",
       "      <th>1</th>\n",
       "      <td>34509937</td>\n",
       "      <td>78324.0</td>\n",
       "      <td>275.49</td>\n",
       "    </tr>\n",
       "    <tr>\n",
       "      <th>2</th>\n",
       "      <td>50264822</td>\n",
       "      <td>265667.0</td>\n",
       "      <td>731.24</td>\n",
       "    </tr>\n",
       "    <tr>\n",
       "      <th>3</th>\n",
       "      <td>88357331</td>\n",
       "      <td>484399.0</td>\n",
       "      <td>1433.16</td>\n",
       "    </tr>\n",
       "  </tbody>\n",
       "</table>\n",
       "</div>"
      ],
      "text/plain": [
       "   meter_id  Total Estimated Consumption (kWh)  Total Cost (£)\n",
       "0  14676236                            28978.0          100.15\n",
       "1  34509937                            78324.0          275.49\n",
       "2  50264822                           265667.0          731.24\n",
       "3  88357331                           484399.0         1433.16"
      ]
     },
     "execution_count": 17,
     "metadata": {},
     "output_type": "execute_result"
    }
   ],
   "source": [
    "df_temp = (\n",
    "    df_forecast_table_ext\n",
    "    # only retain the relevant columns\n",
    "    [['meter_id', 'kwh', 'rate_p_per_kwh']]\n",
    "    # calculate rate in p as indicated by the example\n",
    "    .assign(rate_p=lambda x: x.kwh * x.rate_p_per_kwh)\n",
    "    # calculate total cost per meter and total consumption per meter\n",
    "    .groupby(('meter_id'))\n",
    "    .sum()\n",
    "    # from rate in p to rate in pounds\n",
    "    .assign(rate_pounds=lambda x: x.rate_p * 0.01)\n",
    "    # drop columns rate_p and rate_p_per_kwh\n",
    "    .drop(columns=['rate_p_per_kwh', 'rate_p'])\n",
    "    # rename columns kwh and rate_pounds as requested\n",
    "    .rename(columns={'kwh': 'Total Estimated Consumption (kWh)', 'rate_pounds': 'Total Cost (£)'})\n",
    ")\n",
    "# round all numerical values to two decimals and reset index to get df_result in correct format\n",
    "df_result = np.round(df_temp, decimals=2).reset_index(drop=False)\n",
    "df_result"
   ]
  },
  {
   "cell_type": "markdown",
   "metadata": {
    "pycharm": {
     "name": "#%% md\n"
    }
   },
   "source": [
    "## 2. Task 2\n",
    "\n",
    "### 2.1 Task description\n",
    "\n",
    "Write a function that generates a list of random meters of any size. Examples of valid exit zones can be found in the rate table. You may randomly generate the annual quantity.\n",
    "\n",
    "### 2.2 Task execution\n",
    "\n",
    "As a prep for this task, we look at the dict_df_calc['meter_list'] dataframe again and extract the valid exit zones from the *exit_zone* column in *df_rate_table*."
   ]
  },
  {
   "cell_type": "code",
   "execution_count": 18,
   "metadata": {
    "pycharm": {
     "name": "#%%\n"
    }
   },
   "outputs": [
    {
     "data": {
      "text/html": [
       "<div>\n",
       "<style scoped>\n",
       "    .dataframe tbody tr th:only-of-type {\n",
       "        vertical-align: middle;\n",
       "    }\n",
       "\n",
       "    .dataframe tbody tr th {\n",
       "        vertical-align: top;\n",
       "    }\n",
       "\n",
       "    .dataframe thead th {\n",
       "        text-align: right;\n",
       "    }\n",
       "</style>\n",
       "<table border=\"1\" class=\"dataframe\">\n",
       "  <thead>\n",
       "    <tr style=\"text-align: right;\">\n",
       "      <th></th>\n",
       "      <th>meter_id</th>\n",
       "      <th>aq_kwh</th>\n",
       "      <th>exit_zone</th>\n",
       "    </tr>\n",
       "  </thead>\n",
       "  <tbody>\n",
       "    <tr>\n",
       "      <th>0</th>\n",
       "      <td>14676236</td>\n",
       "      <td>28978</td>\n",
       "      <td>EA1</td>\n",
       "    </tr>\n",
       "    <tr>\n",
       "      <th>1</th>\n",
       "      <td>34509937</td>\n",
       "      <td>78324</td>\n",
       "      <td>SO1</td>\n",
       "    </tr>\n",
       "    <tr>\n",
       "      <th>2</th>\n",
       "      <td>50264822</td>\n",
       "      <td>265667</td>\n",
       "      <td>NT1</td>\n",
       "    </tr>\n",
       "    <tr>\n",
       "      <th>3</th>\n",
       "      <td>88357331</td>\n",
       "      <td>484399</td>\n",
       "      <td>SE2</td>\n",
       "    </tr>\n",
       "  </tbody>\n",
       "</table>\n",
       "</div>"
      ],
      "text/plain": [
       "   meter_id  aq_kwh exit_zone\n",
       "0  14676236   28978       EA1\n",
       "1  34509937   78324       SO1\n",
       "2  50264822  265667       NT1\n",
       "3  88357331  484399       SE2"
      ]
     },
     "execution_count": 18,
     "metadata": {},
     "output_type": "execute_result"
    }
   ],
   "source": [
    "dict_df_calc['meter_list']"
   ]
  },
  {
   "cell_type": "code",
   "execution_count": 19,
   "metadata": {
    "pycharm": {
     "name": "#%%\n"
    }
   },
   "outputs": [
    {
     "data": {
      "text/plain": [
       "array(['EA1', 'EA2', 'EA3', 'EA4', 'EM1', 'EM2', 'EM3', 'EM4', 'LC', 'LO',\n",
       "       'LS', 'LT', 'LW', 'NE1', 'NE2', 'NE3', 'NO1', 'NO2', 'NT1', 'NT2',\n",
       "       'NT3', 'NW1', 'NW2', 'SC1', 'SC2', 'SC4', 'SE1', 'SE2', 'SO1',\n",
       "       'SO2', 'SW1', 'SW2', 'SW3', 'WA1', 'WA2', 'WM1', 'WM2', 'WM3'],\n",
       "      dtype=object)"
      ]
     },
     "execution_count": 19,
     "metadata": {},
     "output_type": "execute_result"
    }
   ],
   "source": [
    "lst_exit_zones = df_rate_table['exit_zone'].unique()\n",
    "lst_exit_zones"
   ]
  },
  {
   "cell_type": "markdown",
   "metadata": {
    "pycharm": {
     "name": "#%% md\n"
    }
   },
   "source": [
    "We can now create the function **create_df_meter_list** based on the list of available exit zones *lst_exit_zones* and the following observations:\n",
    "- a meter_id is an 8-digit number\n",
    "- while the lower limit of annual quantity is 0 kwh, we will provide the possibility to overwrite the max annual quantity aq_max_kwh (we take 1000 000 kwh by default) taken into account"
   ]
  },
  {
   "cell_type": "code",
   "execution_count": 20,
   "metadata": {
    "pycharm": {
     "name": "#%%\n"
    }
   },
   "outputs": [],
   "source": [
    "from typing import Union\n",
    "\n",
    "def create_df_meter_list(size: int, aq_max_kwh: float = 1000000, seed: Union[int, None] = None) -> pd.DataFrame:\n",
    "    \"\"\"\n",
    "    Generates a list of random meters of any size, taking only valid exit zones into account.\n",
    "    The annual quantity is randomly generated as a number between 0 kwh and aq_max_kwh kwh.\n",
    "    There is a possibility to fix the seed to enable reproducibility.\n",
    "    \"\"\"\n",
    "    np.random.seed(seed)\n",
    "    df_meter_list = pd.DataFrame(columns=['meter_id', 'aq_kwh', 'exit_zone'])\n",
    "    # meter_id is an 8-digit number\n",
    "    df_meter_list['meter_id'] = np.random.randint(low=10000000, high=99999999, size=size)\n",
    "    # randomly generated aq_kwh (rounded to two decimals after comma)\n",
    "    df_meter_list['aq_kwh'] = np.round(np.random.uniform(low=0, high=aq_max_kwh, size=size), 2)\n",
    "    df_meter_list['exit_zone'] = np.random.choice(lst_exit_zones, size=size)\n",
    "\n",
    "    return df_meter_list"
   ]
  },
  {
   "cell_type": "markdown",
   "metadata": {
    "pycharm": {
     "name": "#%% md\n"
    }
   },
   "source": [
    "We quickly test the newly created function."
   ]
  },
  {
   "cell_type": "code",
   "execution_count": 21,
   "metadata": {
    "pycharm": {
     "name": "#%%\n"
    }
   },
   "outputs": [
    {
     "data": {
      "text/html": [
       "<div>\n",
       "<style scoped>\n",
       "    .dataframe tbody tr th:only-of-type {\n",
       "        vertical-align: middle;\n",
       "    }\n",
       "\n",
       "    .dataframe tbody tr th {\n",
       "        vertical-align: top;\n",
       "    }\n",
       "\n",
       "    .dataframe thead th {\n",
       "        text-align: right;\n",
       "    }\n",
       "</style>\n",
       "<table border=\"1\" class=\"dataframe\">\n",
       "  <thead>\n",
       "    <tr style=\"text-align: right;\">\n",
       "      <th></th>\n",
       "      <th>meter_id</th>\n",
       "      <th>aq_kwh</th>\n",
       "      <th>exit_zone</th>\n",
       "    </tr>\n",
       "  </thead>\n",
       "  <tbody>\n",
       "    <tr>\n",
       "      <th>0</th>\n",
       "      <td>75682867</td>\n",
       "      <td>650888.47</td>\n",
       "      <td>SE1</td>\n",
       "    </tr>\n",
       "    <tr>\n",
       "      <th>1</th>\n",
       "      <td>66755036</td>\n",
       "      <td>56411.58</td>\n",
       "      <td>SE2</td>\n",
       "    </tr>\n",
       "    <tr>\n",
       "      <th>2</th>\n",
       "      <td>66882282</td>\n",
       "      <td>721998.77</td>\n",
       "      <td>NE3</td>\n",
       "    </tr>\n",
       "    <tr>\n",
       "      <th>3</th>\n",
       "      <td>31081788</td>\n",
       "      <td>938552.71</td>\n",
       "      <td>NE2</td>\n",
       "    </tr>\n",
       "    <tr>\n",
       "      <th>4</th>\n",
       "      <td>23315092</td>\n",
       "      <td>778.77</td>\n",
       "      <td>EA3</td>\n",
       "    </tr>\n",
       "    <tr>\n",
       "      <th>5</th>\n",
       "      <td>45788921</td>\n",
       "      <td>992211.56</td>\n",
       "      <td>WM2</td>\n",
       "    </tr>\n",
       "    <tr>\n",
       "      <th>6</th>\n",
       "      <td>36735830</td>\n",
       "      <td>617481.51</td>\n",
       "      <td>EM3</td>\n",
       "    </tr>\n",
       "    <tr>\n",
       "      <th>7</th>\n",
       "      <td>41632483</td>\n",
       "      <td>611653.16</td>\n",
       "      <td>NT3</td>\n",
       "    </tr>\n",
       "    <tr>\n",
       "      <th>8</th>\n",
       "      <td>86737383</td>\n",
       "      <td>7066.31</td>\n",
       "      <td>LC</td>\n",
       "    </tr>\n",
       "    <tr>\n",
       "      <th>9</th>\n",
       "      <td>98358551</td>\n",
       "      <td>23062.43</td>\n",
       "      <td>NO2</td>\n",
       "    </tr>\n",
       "  </tbody>\n",
       "</table>\n",
       "</div>"
      ],
      "text/plain": [
       "   meter_id     aq_kwh exit_zone\n",
       "0  75682867  650888.47       SE1\n",
       "1  66755036   56411.58       SE2\n",
       "2  66882282  721998.77       NE3\n",
       "3  31081788  938552.71       NE2\n",
       "4  23315092     778.77       EA3\n",
       "5  45788921  992211.56       WM2\n",
       "6  36735830  617481.51       EM3\n",
       "7  41632483  611653.16       NT3\n",
       "8  86737383    7066.31        LC\n",
       "9  98358551   23062.43       NO2"
      ]
     },
     "execution_count": 21,
     "metadata": {},
     "output_type": "execute_result"
    }
   ],
   "source": [
    "create_df_meter_list(10, seed=42)"
   ]
  },
  {
   "cell_type": "code",
   "execution_count": 22,
   "metadata": {
    "pycharm": {
     "name": "#%%\n"
    }
   },
   "outputs": [
    {
     "data": {
      "text/html": [
       "<div>\n",
       "<style scoped>\n",
       "    .dataframe tbody tr th:only-of-type {\n",
       "        vertical-align: middle;\n",
       "    }\n",
       "\n",
       "    .dataframe tbody tr th {\n",
       "        vertical-align: top;\n",
       "    }\n",
       "\n",
       "    .dataframe thead th {\n",
       "        text-align: right;\n",
       "    }\n",
       "</style>\n",
       "<table border=\"1\" class=\"dataframe\">\n",
       "  <thead>\n",
       "    <tr style=\"text-align: right;\">\n",
       "      <th></th>\n",
       "      <th>meter_id</th>\n",
       "      <th>aq_kwh</th>\n",
       "      <th>exit_zone</th>\n",
       "    </tr>\n",
       "  </thead>\n",
       "  <tbody>\n",
       "    <tr>\n",
       "      <th>0</th>\n",
       "      <td>75682867</td>\n",
       "      <td>6508884.73</td>\n",
       "      <td>SE1</td>\n",
       "    </tr>\n",
       "    <tr>\n",
       "      <th>1</th>\n",
       "      <td>66755036</td>\n",
       "      <td>564115.79</td>\n",
       "      <td>SE2</td>\n",
       "    </tr>\n",
       "    <tr>\n",
       "      <th>2</th>\n",
       "      <td>66882282</td>\n",
       "      <td>7219987.72</td>\n",
       "      <td>NE3</td>\n",
       "    </tr>\n",
       "    <tr>\n",
       "      <th>3</th>\n",
       "      <td>31081788</td>\n",
       "      <td>9385527.09</td>\n",
       "      <td>NE2</td>\n",
       "    </tr>\n",
       "    <tr>\n",
       "      <th>4</th>\n",
       "      <td>23315092</td>\n",
       "      <td>7787.66</td>\n",
       "      <td>EA3</td>\n",
       "    </tr>\n",
       "    <tr>\n",
       "      <th>5</th>\n",
       "      <td>45788921</td>\n",
       "      <td>9922115.59</td>\n",
       "      <td>WM2</td>\n",
       "    </tr>\n",
       "    <tr>\n",
       "      <th>6</th>\n",
       "      <td>36735830</td>\n",
       "      <td>6174815.10</td>\n",
       "      <td>EM3</td>\n",
       "    </tr>\n",
       "    <tr>\n",
       "      <th>7</th>\n",
       "      <td>41632483</td>\n",
       "      <td>6116531.60</td>\n",
       "      <td>NT3</td>\n",
       "    </tr>\n",
       "    <tr>\n",
       "      <th>8</th>\n",
       "      <td>86737383</td>\n",
       "      <td>70663.05</td>\n",
       "      <td>LC</td>\n",
       "    </tr>\n",
       "    <tr>\n",
       "      <th>9</th>\n",
       "      <td>98358551</td>\n",
       "      <td>230624.25</td>\n",
       "      <td>NO2</td>\n",
       "    </tr>\n",
       "  </tbody>\n",
       "</table>\n",
       "</div>"
      ],
      "text/plain": [
       "   meter_id      aq_kwh exit_zone\n",
       "0  75682867  6508884.73       SE1\n",
       "1  66755036   564115.79       SE2\n",
       "2  66882282  7219987.72       NE3\n",
       "3  31081788  9385527.09       NE2\n",
       "4  23315092     7787.66       EA3\n",
       "5  45788921  9922115.59       WM2\n",
       "6  36735830  6174815.10       EM3\n",
       "7  41632483  6116531.60       NT3\n",
       "8  86737383    70663.05        LC\n",
       "9  98358551   230624.25       NO2"
      ]
     },
     "execution_count": 22,
     "metadata": {},
     "output_type": "execute_result"
    }
   ],
   "source": [
    "create_df_meter_list(10, aq_max_kwh = 10000000, seed=42)"
   ]
  },
  {
   "cell_type": "markdown",
   "metadata": {
    "pycharm": {
     "name": "#%% md\n"
    }
   },
   "source": [
    "## 3. Task 3\n",
    "\n",
    "### 3.1 Task description\n",
    "\n",
    "Write a function that generates mock consumption data given a list of meters and a start date and duration (number of days in the forecast). The data may be completely random and it doesn't have to match with the meters' annual quantities either.\n",
    "\n",
    "### 3.2 Task execution\n",
    "\n",
    "As a prep, we have a look at *dict_df_calc['forecast_table']* dataframe again and we explore this dataframe a bit further."
   ]
  },
  {
   "cell_type": "code",
   "execution_count": 23,
   "metadata": {
    "pycharm": {
     "name": "#%%\n"
    }
   },
   "outputs": [
    {
     "data": {
      "text/html": [
       "<div>\n",
       "<style scoped>\n",
       "    .dataframe tbody tr th:only-of-type {\n",
       "        vertical-align: middle;\n",
       "    }\n",
       "\n",
       "    .dataframe tbody tr th {\n",
       "        vertical-align: top;\n",
       "    }\n",
       "\n",
       "    .dataframe thead th {\n",
       "        text-align: right;\n",
       "    }\n",
       "</style>\n",
       "<table border=\"1\" class=\"dataframe\">\n",
       "  <thead>\n",
       "    <tr style=\"text-align: right;\">\n",
       "      <th></th>\n",
       "      <th>meter_id</th>\n",
       "      <th>date</th>\n",
       "      <th>kwh</th>\n",
       "    </tr>\n",
       "  </thead>\n",
       "  <tbody>\n",
       "    <tr>\n",
       "      <th>0</th>\n",
       "      <td>14676236</td>\n",
       "      <td>2020-06-01</td>\n",
       "      <td>22.070768</td>\n",
       "    </tr>\n",
       "    <tr>\n",
       "      <th>1</th>\n",
       "      <td>14676236</td>\n",
       "      <td>2020-06-02</td>\n",
       "      <td>19.170720</td>\n",
       "    </tr>\n",
       "    <tr>\n",
       "      <th>2</th>\n",
       "      <td>14676236</td>\n",
       "      <td>2020-06-03</td>\n",
       "      <td>23.555111</td>\n",
       "    </tr>\n",
       "    <tr>\n",
       "      <th>3</th>\n",
       "      <td>14676236</td>\n",
       "      <td>2020-06-04</td>\n",
       "      <td>18.220712</td>\n",
       "    </tr>\n",
       "    <tr>\n",
       "      <th>4</th>\n",
       "      <td>14676236</td>\n",
       "      <td>2020-06-05</td>\n",
       "      <td>14.196134</td>\n",
       "    </tr>\n",
       "    <tr>\n",
       "      <th>...</th>\n",
       "      <td>...</td>\n",
       "      <td>...</td>\n",
       "      <td>...</td>\n",
       "    </tr>\n",
       "    <tr>\n",
       "      <th>3407</th>\n",
       "      <td>88357331</td>\n",
       "      <td>2022-09-27</td>\n",
       "      <td>441.014725</td>\n",
       "    </tr>\n",
       "    <tr>\n",
       "      <th>3408</th>\n",
       "      <td>88357331</td>\n",
       "      <td>2022-09-28</td>\n",
       "      <td>441.512055</td>\n",
       "    </tr>\n",
       "    <tr>\n",
       "      <th>3409</th>\n",
       "      <td>88357331</td>\n",
       "      <td>2022-09-29</td>\n",
       "      <td>437.240657</td>\n",
       "    </tr>\n",
       "    <tr>\n",
       "      <th>3410</th>\n",
       "      <td>88357331</td>\n",
       "      <td>2022-09-30</td>\n",
       "      <td>517.608354</td>\n",
       "    </tr>\n",
       "    <tr>\n",
       "      <th>3411</th>\n",
       "      <td>88357331</td>\n",
       "      <td>2022-10-01</td>\n",
       "      <td>460.535505</td>\n",
       "    </tr>\n",
       "  </tbody>\n",
       "</table>\n",
       "<p>3412 rows × 3 columns</p>\n",
       "</div>"
      ],
      "text/plain": [
       "      meter_id       date         kwh\n",
       "0     14676236 2020-06-01   22.070768\n",
       "1     14676236 2020-06-02   19.170720\n",
       "2     14676236 2020-06-03   23.555111\n",
       "3     14676236 2020-06-04   18.220712\n",
       "4     14676236 2020-06-05   14.196134\n",
       "...        ...        ...         ...\n",
       "3407  88357331 2022-09-27  441.014725\n",
       "3408  88357331 2022-09-28  441.512055\n",
       "3409  88357331 2022-09-29  437.240657\n",
       "3410  88357331 2022-09-30  517.608354\n",
       "3411  88357331 2022-10-01  460.535505\n",
       "\n",
       "[3412 rows x 3 columns]"
      ]
     },
     "execution_count": 23,
     "metadata": {},
     "output_type": "execute_result"
    }
   ],
   "source": [
    "dict_df_calc['forecast_table']"
   ]
  },
  {
   "cell_type": "code",
   "execution_count": 24,
   "metadata": {
    "pycharm": {
     "name": "#%%\n"
    }
   },
   "outputs": [
    {
     "data": {
      "text/html": [
       "<div>\n",
       "<style scoped>\n",
       "    .dataframe tbody tr th:only-of-type {\n",
       "        vertical-align: middle;\n",
       "    }\n",
       "\n",
       "    .dataframe tbody tr th {\n",
       "        vertical-align: top;\n",
       "    }\n",
       "\n",
       "    .dataframe thead th {\n",
       "        text-align: right;\n",
       "    }\n",
       "</style>\n",
       "<table border=\"1\" class=\"dataframe\">\n",
       "  <thead>\n",
       "    <tr style=\"text-align: right;\">\n",
       "      <th></th>\n",
       "      <th></th>\n",
       "      <th>kwh</th>\n",
       "    </tr>\n",
       "    <tr>\n",
       "      <th>meter_id</th>\n",
       "      <th>date</th>\n",
       "      <th></th>\n",
       "    </tr>\n",
       "  </thead>\n",
       "  <tbody>\n",
       "    <tr>\n",
       "      <th rowspan=\"2\" valign=\"top\">14676236</th>\n",
       "      <th>2020-06-01</th>\n",
       "      <td>22.070768</td>\n",
       "    </tr>\n",
       "    <tr>\n",
       "      <th>2022-10-01</th>\n",
       "      <td>37.122479</td>\n",
       "    </tr>\n",
       "    <tr>\n",
       "      <th rowspan=\"2\" valign=\"top\">34509937</th>\n",
       "      <th>2020-06-01</th>\n",
       "      <td>78.611504</td>\n",
       "    </tr>\n",
       "    <tr>\n",
       "      <th>2022-10-01</th>\n",
       "      <td>86.866895</td>\n",
       "    </tr>\n",
       "    <tr>\n",
       "      <th rowspan=\"2\" valign=\"top\">50264822</th>\n",
       "      <th>2020-06-01</th>\n",
       "      <td>278.759084</td>\n",
       "    </tr>\n",
       "    <tr>\n",
       "      <th>2022-10-01</th>\n",
       "      <td>328.192979</td>\n",
       "    </tr>\n",
       "    <tr>\n",
       "      <th rowspan=\"2\" valign=\"top\">88357331</th>\n",
       "      <th>2020-06-01</th>\n",
       "      <td>343.883152</td>\n",
       "    </tr>\n",
       "    <tr>\n",
       "      <th>2022-10-01</th>\n",
       "      <td>460.535505</td>\n",
       "    </tr>\n",
       "  </tbody>\n",
       "</table>\n",
       "</div>"
      ],
      "text/plain": [
       "                            kwh\n",
       "meter_id date                  \n",
       "14676236 2020-06-01   22.070768\n",
       "         2022-10-01   37.122479\n",
       "34509937 2020-06-01   78.611504\n",
       "         2022-10-01   86.866895\n",
       "50264822 2020-06-01  278.759084\n",
       "         2022-10-01  328.192979\n",
       "88357331 2020-06-01  343.883152\n",
       "         2022-10-01  460.535505"
      ]
     },
     "execution_count": 24,
     "metadata": {},
     "output_type": "execute_result"
    }
   ],
   "source": [
    "# check if every meter_id has values for the same min date and max date\n",
    "(\n",
    "    dict_df_calc['forecast_table']\n",
    "    .loc[(dict_df_calc['forecast_table']['date'] == dict_df_calc['forecast_table'].date.min()) |\n",
    "         (dict_df_calc['forecast_table']['date'] == dict_df_calc['forecast_table'].date.max())]\n",
    "    .groupby(['meter_id', 'date'])\n",
    "    .sum()\n",
    ")"
   ]
  },
  {
   "cell_type": "code",
   "execution_count": 25,
   "metadata": {
    "pycharm": {
     "name": "#%%\n"
    }
   },
   "outputs": [
    {
     "data": {
      "text/plain": [
       "meter_id\n",
       "14676236    853\n",
       "34509937    853\n",
       "50264822    853\n",
       "88357331    853\n",
       "Name: date, dtype: int64"
      ]
     },
     "execution_count": 25,
     "metadata": {},
     "output_type": "execute_result"
    }
   ],
   "source": [
    "# check for how many days every meter_id has a value\n",
    "(\n",
    "    dict_df_calc['forecast_table']\n",
    "    .groupby(['meter_id'])['date']\n",
    "    .count()\n",
    ")"
   ]
  },
  {
   "cell_type": "code",
   "execution_count": 26,
   "metadata": {
    "pycharm": {
     "name": "#%%\n"
    }
   },
   "outputs": [
    {
     "data": {
      "text/plain": [
       "Timedelta('852 days 00:00:00')"
      ]
     },
     "execution_count": 26,
     "metadata": {},
     "output_type": "execute_result"
    }
   ],
   "source": [
    "# the number of days between the max date and the min date (+ 1 to get the min date included)\n",
    "dict_df_calc['forecast_table'].date.max() - dict_df_calc['forecast_table'].date.min()"
   ]
  },
  {
   "cell_type": "code",
   "execution_count": 27,
   "metadata": {
    "pycharm": {
     "name": "#%%\n"
    }
   },
   "outputs": [
    {
     "data": {
      "text/plain": [
       "2.91877038164736"
      ]
     },
     "execution_count": 27,
     "metadata": {},
     "output_type": "execute_result"
    }
   ],
   "source": [
    "# minimum kwh value for a single day in the forecast table\n",
    "dict_df_calc['forecast_table']['kwh'].min()"
   ]
  },
  {
   "cell_type": "code",
   "execution_count": 28,
   "metadata": {
    "pycharm": {
     "name": "#%%\n"
    }
   },
   "outputs": [
    {
     "data": {
      "text/plain": [
       "1169.400411138627"
      ]
     },
     "execution_count": 28,
     "metadata": {},
     "output_type": "execute_result"
    }
   ],
   "source": [
    "# maximum kwh value for a single day in the forecast table\n",
    "dict_df_calc['forecast_table']['kwh'].max()"
   ]
  },
  {
   "cell_type": "markdown",
   "metadata": {
    "pycharm": {
     "name": "#%% md\n"
    }
   },
   "source": [
    "We can now create the function **create_df_forecast_table** based on an available *df_meter_list* (which might be created by **create_df_meter_list**) and the following observations:\n",
    "- for every meter_id, there is consumption data for every day in the same time interval\n",
    "- the time interval of *dict_df_calc['forecast_table']* is perfectly determined by the start date (in this case: 2020-06-01) and the duration (in this case: 853 days)\n",
    "- it seems that the data is ordered as follows:\n",
    "    1. meter_id (with the order determined by the available df_meter_list)\n",
    "    2. date (ascending dates starting from the start date)\n",
    "- while the lower limit of the daily (mock) consumption is 0 kwh, we will provide the possibility to overwrite the max daily (mock) consumption (we take 1200 kwh by default based on the observation that the max kwh value in dict_df_calc['forecast_table'] is equal to 1169.4 kwh)"
   ]
  },
  {
   "cell_type": "code",
   "execution_count": 29,
   "metadata": {
    "pycharm": {
     "name": "#%%\n"
    }
   },
   "outputs": [],
   "source": [
    "def create_df_forecast_table(\n",
    "    df_meter_list: pd.DataFrame,\n",
    "    start_date: np.datetime64,\n",
    "    duration: int,\n",
    "    max_kwh: float = 1200,\n",
    "    seed: Union[int, None] = None\n",
    ") -> pd.DataFrame:\n",
    "    \"\"\"\n",
    "    Generates a list of mock consumption data given a list of meters (df_meter_list) and a\n",
    "    start date (start_date) and duration (number of days in the forecast).\n",
    "    The daily quantity is randomly generated as a number between 0 kwh and max_kwh kwh.\n",
    "    There is a possibility to fix the seed to enable reproducibility.\n",
    "    \"\"\"\n",
    "    if duration < 1:\n",
    "        raise ValueError(f'The duration {duration} (number of days in the forecast) should be a positive number.')\n",
    "\n",
    "    np.random.seed(seed)\n",
    "    # we first create df_dates with an additional key column to enable cross join later on\n",
    "    df_dates = pd.DataFrame(columns=['date', 'key'])\n",
    "    df_dates['date'] = pd.date_range(start_date, periods=duration, freq=\"D\")\n",
    "    df_dates['key'] = 0\n",
    "\n",
    "    # create df_forecast_table starting with df_meter_list[['meter_id']]\n",
    "    df_forecast_table = (\n",
    "        df_meter_list[['meter_id']]\n",
    "        .assign(key=0)\n",
    "        # cross join df_dates on key\n",
    "        .merge(df_dates, on='key', how='outer')\n",
    "        # key is no longer necessary\n",
    "        .drop(columns=('key'))\n",
    "        # create kwh column\n",
    "        .assign(\n",
    "            kwh = np.random.uniform(\n",
    "                low=0,\n",
    "                high=max_kwh,\n",
    "                size=df_meter_list.shape[0]*df_dates.shape[0]\n",
    "            )\n",
    "        )\n",
    "    )\n",
    "\n",
    "    return df_forecast_table"
   ]
  },
  {
   "cell_type": "markdown",
   "metadata": {
    "pycharm": {
     "name": "#%% md\n"
    }
   },
   "source": [
    "We quickly test the newly created function."
   ]
  },
  {
   "cell_type": "code",
   "execution_count": 30,
   "metadata": {
    "pycharm": {
     "name": "#%%\n"
    }
   },
   "outputs": [],
   "source": [
    "# this function should throw a ValueError\n",
    "with pytest.raises(ValueError):\n",
    "    create_df_forecast_table(\n",
    "        df_meter_list=dict_df_calc['meter_list'],\n",
    "        start_date=np.datetime64('2020-06-01'),\n",
    "        duration=0,\n",
    "    )"
   ]
  },
  {
   "cell_type": "code",
   "execution_count": 31,
   "metadata": {
    "pycharm": {
     "name": "#%%\n"
    }
   },
   "outputs": [
    {
     "data": {
      "text/html": [
       "<div>\n",
       "<style scoped>\n",
       "    .dataframe tbody tr th:only-of-type {\n",
       "        vertical-align: middle;\n",
       "    }\n",
       "\n",
       "    .dataframe tbody tr th {\n",
       "        vertical-align: top;\n",
       "    }\n",
       "\n",
       "    .dataframe thead th {\n",
       "        text-align: right;\n",
       "    }\n",
       "</style>\n",
       "<table border=\"1\" class=\"dataframe\">\n",
       "  <thead>\n",
       "    <tr style=\"text-align: right;\">\n",
       "      <th></th>\n",
       "      <th>meter_id</th>\n",
       "      <th>date</th>\n",
       "      <th>kwh</th>\n",
       "    </tr>\n",
       "  </thead>\n",
       "  <tbody>\n",
       "    <tr>\n",
       "      <th>0</th>\n",
       "      <td>14676236</td>\n",
       "      <td>2020-06-01</td>\n",
       "      <td>449.448143</td>\n",
       "    </tr>\n",
       "    <tr>\n",
       "      <th>1</th>\n",
       "      <td>14676236</td>\n",
       "      <td>2020-06-02</td>\n",
       "      <td>1140.857168</td>\n",
       "    </tr>\n",
       "    <tr>\n",
       "      <th>2</th>\n",
       "      <td>14676236</td>\n",
       "      <td>2020-06-03</td>\n",
       "      <td>878.392730</td>\n",
       "    </tr>\n",
       "    <tr>\n",
       "      <th>3</th>\n",
       "      <td>34509937</td>\n",
       "      <td>2020-06-01</td>\n",
       "      <td>718.390181</td>\n",
       "    </tr>\n",
       "    <tr>\n",
       "      <th>4</th>\n",
       "      <td>34509937</td>\n",
       "      <td>2020-06-02</td>\n",
       "      <td>187.222369</td>\n",
       "    </tr>\n",
       "    <tr>\n",
       "      <th>5</th>\n",
       "      <td>34509937</td>\n",
       "      <td>2020-06-03</td>\n",
       "      <td>187.193424</td>\n",
       "    </tr>\n",
       "    <tr>\n",
       "      <th>6</th>\n",
       "      <td>50264822</td>\n",
       "      <td>2020-06-01</td>\n",
       "      <td>69.700335</td>\n",
       "    </tr>\n",
       "    <tr>\n",
       "      <th>7</th>\n",
       "      <td>50264822</td>\n",
       "      <td>2020-06-02</td>\n",
       "      <td>1039.411375</td>\n",
       "    </tr>\n",
       "    <tr>\n",
       "      <th>8</th>\n",
       "      <td>50264822</td>\n",
       "      <td>2020-06-03</td>\n",
       "      <td>721.338014</td>\n",
       "    </tr>\n",
       "    <tr>\n",
       "      <th>9</th>\n",
       "      <td>88357331</td>\n",
       "      <td>2020-06-01</td>\n",
       "      <td>849.687093</td>\n",
       "    </tr>\n",
       "    <tr>\n",
       "      <th>10</th>\n",
       "      <td>88357331</td>\n",
       "      <td>2020-06-02</td>\n",
       "      <td>24.701393</td>\n",
       "    </tr>\n",
       "    <tr>\n",
       "      <th>11</th>\n",
       "      <td>88357331</td>\n",
       "      <td>2020-06-03</td>\n",
       "      <td>1163.891823</td>\n",
       "    </tr>\n",
       "  </tbody>\n",
       "</table>\n",
       "</div>"
      ],
      "text/plain": [
       "    meter_id       date          kwh\n",
       "0   14676236 2020-06-01   449.448143\n",
       "1   14676236 2020-06-02  1140.857168\n",
       "2   14676236 2020-06-03   878.392730\n",
       "3   34509937 2020-06-01   718.390181\n",
       "4   34509937 2020-06-02   187.222369\n",
       "5   34509937 2020-06-03   187.193424\n",
       "6   50264822 2020-06-01    69.700335\n",
       "7   50264822 2020-06-02  1039.411375\n",
       "8   50264822 2020-06-03   721.338014\n",
       "9   88357331 2020-06-01   849.687093\n",
       "10  88357331 2020-06-02    24.701393\n",
       "11  88357331 2020-06-03  1163.891823"
      ]
     },
     "execution_count": 31,
     "metadata": {},
     "output_type": "execute_result"
    }
   ],
   "source": [
    "create_df_forecast_table(\n",
    "    df_meter_list=dict_df_calc['meter_list'],\n",
    "    start_date=np.datetime64('2020-06-01'),\n",
    "    duration=3,\n",
    "    seed=42\n",
    ")"
   ]
  },
  {
   "cell_type": "code",
   "execution_count": 32,
   "metadata": {
    "pycharm": {
     "name": "#%%\n"
    }
   },
   "outputs": [
    {
     "data": {
      "text/html": [
       "<div>\n",
       "<style scoped>\n",
       "    .dataframe tbody tr th:only-of-type {\n",
       "        vertical-align: middle;\n",
       "    }\n",
       "\n",
       "    .dataframe tbody tr th {\n",
       "        vertical-align: top;\n",
       "    }\n",
       "\n",
       "    .dataframe thead th {\n",
       "        text-align: right;\n",
       "    }\n",
       "</style>\n",
       "<table border=\"1\" class=\"dataframe\">\n",
       "  <thead>\n",
       "    <tr style=\"text-align: right;\">\n",
       "      <th></th>\n",
       "      <th>meter_id</th>\n",
       "      <th>date</th>\n",
       "      <th>kwh</th>\n",
       "    </tr>\n",
       "  </thead>\n",
       "  <tbody>\n",
       "    <tr>\n",
       "      <th>0</th>\n",
       "      <td>14676236</td>\n",
       "      <td>2024-10-01</td>\n",
       "      <td>44.944814</td>\n",
       "    </tr>\n",
       "    <tr>\n",
       "      <th>1</th>\n",
       "      <td>14676236</td>\n",
       "      <td>2024-10-02</td>\n",
       "      <td>114.085717</td>\n",
       "    </tr>\n",
       "    <tr>\n",
       "      <th>2</th>\n",
       "      <td>14676236</td>\n",
       "      <td>2024-10-03</td>\n",
       "      <td>87.839273</td>\n",
       "    </tr>\n",
       "    <tr>\n",
       "      <th>3</th>\n",
       "      <td>14676236</td>\n",
       "      <td>2024-10-04</td>\n",
       "      <td>71.839018</td>\n",
       "    </tr>\n",
       "    <tr>\n",
       "      <th>4</th>\n",
       "      <td>34509937</td>\n",
       "      <td>2024-10-01</td>\n",
       "      <td>18.722237</td>\n",
       "    </tr>\n",
       "    <tr>\n",
       "      <th>5</th>\n",
       "      <td>34509937</td>\n",
       "      <td>2024-10-02</td>\n",
       "      <td>18.719342</td>\n",
       "    </tr>\n",
       "    <tr>\n",
       "      <th>6</th>\n",
       "      <td>34509937</td>\n",
       "      <td>2024-10-03</td>\n",
       "      <td>6.970033</td>\n",
       "    </tr>\n",
       "    <tr>\n",
       "      <th>7</th>\n",
       "      <td>34509937</td>\n",
       "      <td>2024-10-04</td>\n",
       "      <td>103.941137</td>\n",
       "    </tr>\n",
       "    <tr>\n",
       "      <th>8</th>\n",
       "      <td>50264822</td>\n",
       "      <td>2024-10-01</td>\n",
       "      <td>72.133801</td>\n",
       "    </tr>\n",
       "    <tr>\n",
       "      <th>9</th>\n",
       "      <td>50264822</td>\n",
       "      <td>2024-10-02</td>\n",
       "      <td>84.968709</td>\n",
       "    </tr>\n",
       "    <tr>\n",
       "      <th>10</th>\n",
       "      <td>50264822</td>\n",
       "      <td>2024-10-03</td>\n",
       "      <td>2.470139</td>\n",
       "    </tr>\n",
       "    <tr>\n",
       "      <th>11</th>\n",
       "      <td>50264822</td>\n",
       "      <td>2024-10-04</td>\n",
       "      <td>116.389182</td>\n",
       "    </tr>\n",
       "    <tr>\n",
       "      <th>12</th>\n",
       "      <td>88357331</td>\n",
       "      <td>2024-10-01</td>\n",
       "      <td>99.893117</td>\n",
       "    </tr>\n",
       "    <tr>\n",
       "      <th>13</th>\n",
       "      <td>88357331</td>\n",
       "      <td>2024-10-02</td>\n",
       "      <td>25.480693</td>\n",
       "    </tr>\n",
       "    <tr>\n",
       "      <th>14</th>\n",
       "      <td>88357331</td>\n",
       "      <td>2024-10-03</td>\n",
       "      <td>21.818996</td>\n",
       "    </tr>\n",
       "    <tr>\n",
       "      <th>15</th>\n",
       "      <td>88357331</td>\n",
       "      <td>2024-10-04</td>\n",
       "      <td>22.008541</td>\n",
       "    </tr>\n",
       "  </tbody>\n",
       "</table>\n",
       "</div>"
      ],
      "text/plain": [
       "    meter_id       date         kwh\n",
       "0   14676236 2024-10-01   44.944814\n",
       "1   14676236 2024-10-02  114.085717\n",
       "2   14676236 2024-10-03   87.839273\n",
       "3   14676236 2024-10-04   71.839018\n",
       "4   34509937 2024-10-01   18.722237\n",
       "5   34509937 2024-10-02   18.719342\n",
       "6   34509937 2024-10-03    6.970033\n",
       "7   34509937 2024-10-04  103.941137\n",
       "8   50264822 2024-10-01   72.133801\n",
       "9   50264822 2024-10-02   84.968709\n",
       "10  50264822 2024-10-03    2.470139\n",
       "11  50264822 2024-10-04  116.389182\n",
       "12  88357331 2024-10-01   99.893117\n",
       "13  88357331 2024-10-02   25.480693\n",
       "14  88357331 2024-10-03   21.818996\n",
       "15  88357331 2024-10-04   22.008541"
      ]
     },
     "execution_count": 32,
     "metadata": {},
     "output_type": "execute_result"
    }
   ],
   "source": [
    "create_df_forecast_table(\n",
    "    df_meter_list=dict_df_calc['meter_list'],\n",
    "    start_date=np.datetime64('2024-10-01'),\n",
    "    duration=4,\n",
    "    max_kwh=120,\n",
    "    seed=42\n",
    ")"
   ]
  },
  {
   "cell_type": "markdown",
   "metadata": {
    "pycharm": {
     "name": "#%% md\n"
    }
   },
   "source": [
    "## 4. Task 4\n",
    "\n",
    "### 4.1 Task description\n",
    "\n",
    "Write a function that takes as an input a meter list and a consumption forecast table and that calculates the transportation cost table (i.e., best take your logic from task 1 and wrap it in a function). Benchmark this function using meter lists of different sizes and consumption forecasts for periods of different lengths. How does the function scale for larger sets of data?\n",
    "\n",
    "### 4.2 Task execution\n",
    "\n",
    "The transportation cost table should be a DataFrame of the following form with all numerical values rounded to 2 decimals:\n",
    "\n",
    "| Meter ID | Total Estimated Consumption (kWh) | Total Cost (£) |\n",
    "| ----------- | ----------- | ----------- |\n",
    "| 14676236 | | |\n",
    "| ... | | |\n",
    "| ... | | |\n",
    "\n",
    "We will use the previously created *df_rate_table* (which was created based on *dict_df_calc['rate_table']* ), from which the top 5 rows and bottom 5 rows are shown for convenience."
   ]
  },
  {
   "cell_type": "code",
   "execution_count": 33,
   "metadata": {
    "pycharm": {
     "name": "#%%\n"
    }
   },
   "outputs": [
    {
     "data": {
      "text/html": [
       "<div>\n",
       "<style scoped>\n",
       "    .dataframe tbody tr th:only-of-type {\n",
       "        vertical-align: middle;\n",
       "    }\n",
       "\n",
       "    .dataframe tbody tr th {\n",
       "        vertical-align: top;\n",
       "    }\n",
       "\n",
       "    .dataframe thead th {\n",
       "        text-align: right;\n",
       "    }\n",
       "</style>\n",
       "<table border=\"1\" class=\"dataframe\">\n",
       "  <thead>\n",
       "    <tr style=\"text-align: right;\">\n",
       "      <th></th>\n",
       "      <th>min_date</th>\n",
       "      <th>max_date</th>\n",
       "      <th>exit_zone</th>\n",
       "      <th>aq_min_kwh</th>\n",
       "      <th>aq_max_kwh</th>\n",
       "      <th>rate_p_per_kwh</th>\n",
       "    </tr>\n",
       "  </thead>\n",
       "  <tbody>\n",
       "    <tr>\n",
       "      <th>0</th>\n",
       "      <td>2020-04-01</td>\n",
       "      <td>2020-09-30</td>\n",
       "      <td>EA1</td>\n",
       "      <td>0</td>\n",
       "      <td>73200</td>\n",
       "      <td>0.2652</td>\n",
       "    </tr>\n",
       "    <tr>\n",
       "      <th>1</th>\n",
       "      <td>2020-04-01</td>\n",
       "      <td>2020-09-30</td>\n",
       "      <td>EA1</td>\n",
       "      <td>73200</td>\n",
       "      <td>732000</td>\n",
       "      <td>0.1980</td>\n",
       "    </tr>\n",
       "    <tr>\n",
       "      <th>2</th>\n",
       "      <td>2020-04-01</td>\n",
       "      <td>2020-09-30</td>\n",
       "      <td>EA1</td>\n",
       "      <td>732000</td>\n",
       "      <td>7320000</td>\n",
       "      <td>0.2875</td>\n",
       "    </tr>\n",
       "    <tr>\n",
       "      <th>3</th>\n",
       "      <td>2020-04-01</td>\n",
       "      <td>2020-09-30</td>\n",
       "      <td>EA2</td>\n",
       "      <td>0</td>\n",
       "      <td>73200</td>\n",
       "      <td>0.2970</td>\n",
       "    </tr>\n",
       "    <tr>\n",
       "      <th>4</th>\n",
       "      <td>2020-04-01</td>\n",
       "      <td>2020-09-30</td>\n",
       "      <td>EA2</td>\n",
       "      <td>73200</td>\n",
       "      <td>732000</td>\n",
       "      <td>0.1524</td>\n",
       "    </tr>\n",
       "  </tbody>\n",
       "</table>\n",
       "</div>"
      ],
      "text/plain": [
       "    min_date   max_date exit_zone  aq_min_kwh  aq_max_kwh  rate_p_per_kwh\n",
       "0 2020-04-01 2020-09-30       EA1           0       73200          0.2652\n",
       "1 2020-04-01 2020-09-30       EA1       73200      732000          0.1980\n",
       "2 2020-04-01 2020-09-30       EA1      732000     7320000          0.2875\n",
       "3 2020-04-01 2020-09-30       EA2           0       73200          0.2970\n",
       "4 2020-04-01 2020-09-30       EA2       73200      732000          0.1524"
      ]
     },
     "execution_count": 33,
     "metadata": {},
     "output_type": "execute_result"
    }
   ],
   "source": [
    "df_rate_table.head()"
   ]
  },
  {
   "cell_type": "code",
   "execution_count": 34,
   "metadata": {
    "pycharm": {
     "name": "#%%\n"
    }
   },
   "outputs": [
    {
     "data": {
      "text/html": [
       "<div>\n",
       "<style scoped>\n",
       "    .dataframe tbody tr th:only-of-type {\n",
       "        vertical-align: middle;\n",
       "    }\n",
       "\n",
       "    .dataframe tbody tr th {\n",
       "        vertical-align: top;\n",
       "    }\n",
       "\n",
       "    .dataframe thead th {\n",
       "        text-align: right;\n",
       "    }\n",
       "</style>\n",
       "<table border=\"1\" class=\"dataframe\">\n",
       "  <thead>\n",
       "    <tr style=\"text-align: right;\">\n",
       "      <th></th>\n",
       "      <th>min_date</th>\n",
       "      <th>max_date</th>\n",
       "      <th>exit_zone</th>\n",
       "      <th>aq_min_kwh</th>\n",
       "      <th>aq_max_kwh</th>\n",
       "      <th>rate_p_per_kwh</th>\n",
       "    </tr>\n",
       "  </thead>\n",
       "  <tbody>\n",
       "    <tr>\n",
       "      <th>1135</th>\n",
       "      <td>2024-10-01</td>\n",
       "      <td>2034-09-30</td>\n",
       "      <td>WM2</td>\n",
       "      <td>73200</td>\n",
       "      <td>732000</td>\n",
       "      <td>0.4537</td>\n",
       "    </tr>\n",
       "    <tr>\n",
       "      <th>1136</th>\n",
       "      <td>2024-10-01</td>\n",
       "      <td>2034-09-30</td>\n",
       "      <td>WM2</td>\n",
       "      <td>732000</td>\n",
       "      <td>7320000</td>\n",
       "      <td>0.7534</td>\n",
       "    </tr>\n",
       "    <tr>\n",
       "      <th>1137</th>\n",
       "      <td>2024-10-01</td>\n",
       "      <td>2034-09-30</td>\n",
       "      <td>WM3</td>\n",
       "      <td>0</td>\n",
       "      <td>73200</td>\n",
       "      <td>0.7263</td>\n",
       "    </tr>\n",
       "    <tr>\n",
       "      <th>1138</th>\n",
       "      <td>2024-10-01</td>\n",
       "      <td>2034-09-30</td>\n",
       "      <td>WM3</td>\n",
       "      <td>73200</td>\n",
       "      <td>732000</td>\n",
       "      <td>0.6109</td>\n",
       "    </tr>\n",
       "    <tr>\n",
       "      <th>1139</th>\n",
       "      <td>2024-10-01</td>\n",
       "      <td>2034-09-30</td>\n",
       "      <td>WM3</td>\n",
       "      <td>732000</td>\n",
       "      <td>7320000</td>\n",
       "      <td>0.4928</td>\n",
       "    </tr>\n",
       "  </tbody>\n",
       "</table>\n",
       "</div>"
      ],
      "text/plain": [
       "       min_date   max_date exit_zone  aq_min_kwh  aq_max_kwh  rate_p_per_kwh\n",
       "1135 2024-10-01 2034-09-30       WM2       73200      732000          0.4537\n",
       "1136 2024-10-01 2034-09-30       WM2      732000     7320000          0.7534\n",
       "1137 2024-10-01 2034-09-30       WM3           0       73200          0.7263\n",
       "1138 2024-10-01 2034-09-30       WM3       73200      732000          0.6109\n",
       "1139 2024-10-01 2034-09-30       WM3      732000     7320000          0.4928"
      ]
     },
     "execution_count": 34,
     "metadata": {},
     "output_type": "execute_result"
    }
   ],
   "source": [
    "df_rate_table.tail()"
   ]
  },
  {
   "cell_type": "code",
   "execution_count": 35,
   "metadata": {
    "pycharm": {
     "name": "#%%\n"
    }
   },
   "outputs": [],
   "source": [
    "def calculate_transportation_cost_table(\n",
    "    df_meter_list: pd.DataFrame,\n",
    "    df_forecast_table: pd.DataFrame,\n",
    ") -> pd.DataFrame:\n",
    "    \"\"\"\n",
    "    Calculates the transportation cost table given a list of meters (df_meter_list) and a\n",
    "    consumption forecast table (df_forecast_table).\n",
    "    \"\"\"\n",
    "    df_transportation_cost = (\n",
    "        # 1. start with forecast_table\n",
    "        df_forecast_table\n",
    "        # 2. meter_id is the column linking df_meter_list to df_forecast_table\n",
    "        .merge(df_meter_list, on='meter_id')\n",
    "        # 3. merge df_rate_table on exit_zone only\n",
    "        .merge(df_rate_table, on='exit_zone')\n",
    "        # 4. filter on annual quantity band\n",
    "        .query('aq_kwh >= aq_min_kwh and aq_kwh < aq_max_kwh')\n",
    "        # 5. filter on date\n",
    "        .query('date >= min_date and date <= max_date')\n",
    "        # 6. only retain the relevant columns\n",
    "        [['meter_id', 'kwh', 'rate_p_per_kwh']]\n",
    "        # 7. calculate rate in p as indicated by the example\n",
    "        .assign(rate_p=lambda x: x.kwh * x.rate_p_per_kwh)\n",
    "        # 8. calculate total cost per meter and total consumption per meter\n",
    "        .groupby(('meter_id'))\n",
    "        .sum()\n",
    "        # 9. from rate in p to rate in pounds\n",
    "        .assign(rate_pounds=lambda x: x.rate_p * 0.01)\n",
    "        # 10. drop columns rate_p and rate_p_per_kwh\n",
    "        .drop(columns=['rate_p_per_kwh', 'rate_p'])\n",
    "        # 11. rename columns kwh and rate_pounds as requested\n",
    "        .rename(columns={'kwh': 'Total Estimated Consumption (kWh)', 'rate_pounds': 'Total Cost (£)'})\n",
    "    )\n",
    "    # return df_transportation_cost with all numerical values rounded to two decimals\n",
    "    # and reset index afterwards to get df_transportation_cost in the right shape\n",
    "    return np.round(df_transportation_cost, decimals=2).reset_index(drop=False)"
   ]
  },
  {
   "cell_type": "markdown",
   "metadata": {
    "pycharm": {
     "name": "#%% md\n"
    }
   },
   "source": [
    "We test the outcome first based on the given *dict_df_calc['meter_list']* and *dict_df_calc['forecast_table']*"
   ]
  },
  {
   "cell_type": "code",
   "execution_count": 36,
   "metadata": {
    "pycharm": {
     "name": "#%%\n"
    }
   },
   "outputs": [
    {
     "data": {
      "text/html": [
       "<div>\n",
       "<style scoped>\n",
       "    .dataframe tbody tr th:only-of-type {\n",
       "        vertical-align: middle;\n",
       "    }\n",
       "\n",
       "    .dataframe tbody tr th {\n",
       "        vertical-align: top;\n",
       "    }\n",
       "\n",
       "    .dataframe thead th {\n",
       "        text-align: right;\n",
       "    }\n",
       "</style>\n",
       "<table border=\"1\" class=\"dataframe\">\n",
       "  <thead>\n",
       "    <tr style=\"text-align: right;\">\n",
       "      <th></th>\n",
       "      <th>meter_id</th>\n",
       "      <th>Total Estimated Consumption (kWh)</th>\n",
       "      <th>Total Cost (£)</th>\n",
       "    </tr>\n",
       "  </thead>\n",
       "  <tbody>\n",
       "    <tr>\n",
       "      <th>0</th>\n",
       "      <td>14676236</td>\n",
       "      <td>28978.0</td>\n",
       "      <td>100.15</td>\n",
       "    </tr>\n",
       "    <tr>\n",
       "      <th>1</th>\n",
       "      <td>34509937</td>\n",
       "      <td>78324.0</td>\n",
       "      <td>275.49</td>\n",
       "    </tr>\n",
       "    <tr>\n",
       "      <th>2</th>\n",
       "      <td>50264822</td>\n",
       "      <td>265667.0</td>\n",
       "      <td>731.24</td>\n",
       "    </tr>\n",
       "    <tr>\n",
       "      <th>3</th>\n",
       "      <td>88357331</td>\n",
       "      <td>484399.0</td>\n",
       "      <td>1433.16</td>\n",
       "    </tr>\n",
       "  </tbody>\n",
       "</table>\n",
       "</div>"
      ],
      "text/plain": [
       "   meter_id  Total Estimated Consumption (kWh)  Total Cost (£)\n",
       "0  14676236                            28978.0          100.15\n",
       "1  34509937                            78324.0          275.49\n",
       "2  50264822                           265667.0          731.24\n",
       "3  88357331                           484399.0         1433.16"
      ]
     },
     "execution_count": 36,
     "metadata": {},
     "output_type": "execute_result"
    }
   ],
   "source": [
    "df_transportation_cost_test = calculate_transportation_cost_table(\n",
    "    df_meter_list=dict_df_calc['meter_list'],\n",
    "    df_forecast_table=dict_df_calc['forecast_table'],\n",
    ")\n",
    "df_transportation_cost_test"
   ]
  },
  {
   "cell_type": "code",
   "execution_count": 37,
   "metadata": {
    "pycharm": {
     "name": "#%%\n"
    }
   },
   "outputs": [
    {
     "data": {
      "text/html": [
       "<div>\n",
       "<style scoped>\n",
       "    .dataframe tbody tr th:only-of-type {\n",
       "        vertical-align: middle;\n",
       "    }\n",
       "\n",
       "    .dataframe tbody tr th {\n",
       "        vertical-align: top;\n",
       "    }\n",
       "\n",
       "    .dataframe thead th {\n",
       "        text-align: right;\n",
       "    }\n",
       "</style>\n",
       "<table border=\"1\" class=\"dataframe\">\n",
       "  <thead>\n",
       "    <tr style=\"text-align: right;\">\n",
       "      <th></th>\n",
       "      <th>meter_id</th>\n",
       "      <th>Total Estimated Consumption (kWh)</th>\n",
       "      <th>Total Cost (£)</th>\n",
       "    </tr>\n",
       "  </thead>\n",
       "  <tbody>\n",
       "    <tr>\n",
       "      <th>0</th>\n",
       "      <td>23315092</td>\n",
       "      <td>50325.49</td>\n",
       "      <td>165.89</td>\n",
       "    </tr>\n",
       "    <tr>\n",
       "      <th>1</th>\n",
       "      <td>31081788</td>\n",
       "      <td>50665.11</td>\n",
       "      <td>167.24</td>\n",
       "    </tr>\n",
       "    <tr>\n",
       "      <th>2</th>\n",
       "      <td>36735830</td>\n",
       "      <td>51439.99</td>\n",
       "      <td>164.51</td>\n",
       "    </tr>\n",
       "    <tr>\n",
       "      <th>3</th>\n",
       "      <td>41632483</td>\n",
       "      <td>50504.16</td>\n",
       "      <td>152.35</td>\n",
       "    </tr>\n",
       "    <tr>\n",
       "      <th>4</th>\n",
       "      <td>45788921</td>\n",
       "      <td>50502.38</td>\n",
       "      <td>177.21</td>\n",
       "    </tr>\n",
       "    <tr>\n",
       "      <th>5</th>\n",
       "      <td>66755036</td>\n",
       "      <td>51360.63</td>\n",
       "      <td>144.02</td>\n",
       "    </tr>\n",
       "    <tr>\n",
       "      <th>6</th>\n",
       "      <td>66882282</td>\n",
       "      <td>51170.09</td>\n",
       "      <td>194.15</td>\n",
       "    </tr>\n",
       "    <tr>\n",
       "      <th>7</th>\n",
       "      <td>75682867</td>\n",
       "      <td>50843.70</td>\n",
       "      <td>154.02</td>\n",
       "    </tr>\n",
       "    <tr>\n",
       "      <th>8</th>\n",
       "      <td>86737383</td>\n",
       "      <td>50023.65</td>\n",
       "      <td>147.69</td>\n",
       "    </tr>\n",
       "    <tr>\n",
       "      <th>9</th>\n",
       "      <td>98358551</td>\n",
       "      <td>49167.25</td>\n",
       "      <td>178.80</td>\n",
       "    </tr>\n",
       "  </tbody>\n",
       "</table>\n",
       "</div>"
      ],
      "text/plain": [
       "   meter_id  Total Estimated Consumption (kWh)  Total Cost (£)\n",
       "0  23315092                           50325.49          165.89\n",
       "1  31081788                           50665.11          167.24\n",
       "2  36735830                           51439.99          164.51\n",
       "3  41632483                           50504.16          152.35\n",
       "4  45788921                           50502.38          177.21\n",
       "5  66755036                           51360.63          144.02\n",
       "6  66882282                           51170.09          194.15\n",
       "7  75682867                           50843.70          154.02\n",
       "8  86737383                           50023.65          147.69\n",
       "9  98358551                           49167.25          178.80"
      ]
     },
     "execution_count": 37,
     "metadata": {},
     "output_type": "execute_result"
    }
   ],
   "source": [
    "df_meter_list = create_df_meter_list(\n",
    "    size=10,\n",
    "    seed=42,\n",
    ")\n",
    "df_forecast_table = create_df_forecast_table(\n",
    "    df_meter_list=df_meter_list,\n",
    "    start_date=np.datetime64('2020-06-01'),\n",
    "    duration=853,\n",
    "    max_kwh=120,\n",
    "    seed=42,\n",
    ")\n",
    "df_transportation_cost_test2 = calculate_transportation_cost_table(\n",
    "    df_meter_list=df_meter_list,\n",
    "    df_forecast_table=df_forecast_table,\n",
    ")\n",
    "df_transportation_cost_test2"
   ]
  },
  {
   "cell_type": "code",
   "execution_count": 38,
   "metadata": {
    "pycharm": {
     "name": "#%%\n"
    }
   },
   "outputs": [
    {
     "name": "stdout",
     "output_type": "stream",
     "text": [
      "<class 'pandas.core.frame.DataFrame'>\n",
      "RangeIndex: 10 entries, 0 to 9\n",
      "Data columns (total 3 columns):\n",
      " #   Column                             Non-Null Count  Dtype  \n",
      "---  ------                             --------------  -----  \n",
      " 0   meter_id                           10 non-null     int64  \n",
      " 1   Total Estimated Consumption (kWh)  10 non-null     float64\n",
      " 2   Total Cost (£)                     10 non-null     float64\n",
      "dtypes: float64(2), int64(1)\n",
      "memory usage: 368.0 bytes\n"
     ]
    }
   ],
   "source": [
    "df_transportation_cost_test2.info()"
   ]
  },
  {
   "cell_type": "markdown",
   "metadata": {
    "pycharm": {
     "name": "#%% md\n"
    }
   },
   "source": [
    "Next step is to benchmark this function using meter lists of different sizes and consumption forecasts for periods of different lengths. How does the function scale for larger sets of data?\n",
    "\n",
    "We create a function **benchmark_calc_transportation_cost_table_functions** that accepts the same arguments as **create_df_meter_list** and ****"
   ]
  },
  {
   "cell_type": "code",
   "execution_count": 39,
   "metadata": {
    "pycharm": {
     "name": "#%%\n"
    }
   },
   "outputs": [],
   "source": [
    "from typing import Callable\n",
    "\n",
    "import time\n",
    "\n",
    "\n",
    "def benchmark_calc_transportation_cost_table_functions(\n",
    "    func: Callable[[pd.DataFrame, pd.DataFrame], pd.DataFrame],\n",
    "    size: int,\n",
    "    duration: int,\n",
    "    start_date: np.datetime64 = np.datetime64('2024-10-01'),\n",
    "    max_kwh: float = 3000,\n",
    "    seed: Union[int, None] = None\n",
    ") -> None:\n",
    "    \"\"\"\n",
    "    This function benchmarks the function func used to calculate the transportation cost table and\n",
    "    accepts the arguments used to create df_meter_list and df_forecast_table which are then used as input to func:\n",
    "    - size of the meter list\n",
    "    - duration (number of days) of the forecast\n",
    "    - start date of the forecast (1st of June 2020 by default)\n",
    "    - the maximum daily quantity in kwh (1200 kwh by default)\n",
    "    - the seed for reproducibility\n",
    "    \"\"\"\n",
    "\n",
    "    # determine the maximum annual quantity based on the maximum daily quantity\n",
    "    aq_max_kwh = 366 * max_kwh\n",
    "    # create meter list\n",
    "    df_meter_list = create_df_meter_list(\n",
    "        size=size,\n",
    "        aq_max_kwh=aq_max_kwh,\n",
    "        seed=seed,\n",
    "    )\n",
    "    # print(df_meter_list)\n",
    "    # create forecast table\n",
    "    df_forecast_table = create_df_forecast_table(\n",
    "        df_meter_list=df_meter_list,\n",
    "        start_date=start_date,\n",
    "        duration=duration,\n",
    "        max_kwh=max_kwh,\n",
    "        seed=seed,\n",
    "    )\n",
    "    # print(df_forecast_table)\n",
    "    # start timing function\n",
    "    start_time = time.time()\n",
    "    # execute function\n",
    "    df_transportation_cost = func(\n",
    "        df_meter_list=df_meter_list,\n",
    "        df_forecast_table=df_forecast_table,\n",
    "    )\n",
    "    # print(df_transportation_cost)\n",
    "    end_time = time.time()\n",
    "\n",
    "    execution_time = end_time - start_time\n",
    "    msg = (\n",
    "        f\"Execution time for meter list of size {size} \"\n",
    "        f\"and consumption forecasts over period of {duration} days: \"\n",
    "        f\"{execution_time} seconds\"\n",
    "    )\n",
    "\n",
    "    print(msg)"
   ]
  },
  {
   "cell_type": "code",
   "execution_count": 40,
   "metadata": {
    "pycharm": {
     "name": "#%%\n"
    }
   },
   "outputs": [
    {
     "name": "stdout",
     "output_type": "stream",
     "text": [
      "Execution time for meter list of size 10 and consumption forecasts over period of 10 days: 0.01677989959716797 seconds\n",
      "Execution time for meter list of size 10 and consumption forecasts over period of 100 days: 0.020072221755981445 seconds\n",
      "Execution time for meter list of size 10 and consumption forecasts over period of 1000 days: 0.07500004768371582 seconds\n",
      "Execution time for meter list of size 100 and consumption forecasts over period of 10 days: 0.01948404312133789 seconds\n",
      "Execution time for meter list of size 100 and consumption forecasts over period of 100 days: 0.06807708740234375 seconds\n",
      "Execution time for meter list of size 100 and consumption forecasts over period of 1000 days: 0.6009202003479004 seconds\n",
      "Execution time for meter list of size 1000 and consumption forecasts over period of 10 days: 0.07306909561157227 seconds\n",
      "Execution time for meter list of size 1000 and consumption forecasts over period of 100 days: 0.3938732147216797 seconds\n",
      "Execution time for meter list of size 1000 and consumption forecasts over period of 1000 days: 6.677520036697388 seconds\n"
     ]
    }
   ],
   "source": [
    "size_lst = [10, 100, 1000]\n",
    "duration_lst = [10, 100, 1000]\n",
    "\n",
    "for size in size_lst:\n",
    "    for duration in duration_lst:\n",
    "        benchmark_calc_transportation_cost_table_functions(\n",
    "            func=calculate_transportation_cost_table,\n",
    "            size=size,\n",
    "            duration=duration,\n",
    "            seed=42,\n",
    "        )"
   ]
  },
  {
   "cell_type": "markdown",
   "metadata": {
    "pycharm": {
     "name": "#%% md\n"
    }
   },
   "source": [
    "We observe the following:\n",
    "- increasing the consumption forecast period has a significantly larger impact on the execution time when the meter size is larger\n",
    "- likewise, the meter size has a significantly larger impact on the execution time when the consumption forecast period is larger"
   ]
  },
  {
   "cell_type": "markdown",
   "metadata": {
    "pycharm": {
     "name": "#%% md\n"
    }
   },
   "source": [
    "## 5. Task 5\n",
    "\n",
    "### 5.1 Task description\n",
    "\n",
    "What are your observations after benchmarking? Are there any steps in the cost calculation that can be improved? How would you go about improving the performance of this calculation?\n",
    "\n",
    "### 5.2 Task execution"
   ]
  },
  {
   "cell_type": "markdown",
   "metadata": {
    "pycharm": {
     "name": "#%% md\n"
    }
   },
   "source": [
    "I would start with trying to replace the pandas operations by numpy operations wherever possible (which would mainly improve the calculation speed). A first attempt at improving the performance is shown below."
   ]
  },
  {
   "cell_type": "code",
   "execution_count": 41,
   "metadata": {
    "pycharm": {
     "name": "#%%\n"
    }
   },
   "outputs": [],
   "source": [
    "def improved_calculate_transportation_cost_table(\n",
    "    df_meter_list: pd.DataFrame,\n",
    "    df_forecast_table: pd.DataFrame,\n",
    ") -> pd.DataFrame:\n",
    "    \"\"\"\n",
    "    Calculates the transportation cost table given a list of meters (df_meter_list) and a\n",
    "    consumption forecast table (df_forecast_table).\n",
    "    \"\"\"\n",
    "    arr_temp = (\n",
    "        # 1. start with forecast_table\n",
    "        df_forecast_table\n",
    "        # 2. meter_id is the column linking df_meter_list to df_forecast_table\n",
    "        .merge(df_meter_list, on='meter_id')\n",
    "        # 3. merge df_rate_table on exit_zone only\n",
    "        .merge(df_rate_table, on='exit_zone')\n",
    "        # 4. filter on annual quantity band\n",
    "        .query('aq_kwh >= aq_min_kwh and aq_kwh < aq_max_kwh')\n",
    "        # 5. filter on date\n",
    "        .query('date >= min_date and date <= max_date')\n",
    "        # 6. only retain the relevant columns\n",
    "        [['meter_id', 'kwh', 'rate_p_per_kwh']]\n",
    "        # 7. transform to 2D numpy array\n",
    "        .to_numpy()\n",
    "    )\n",
    "\n",
    "    # 8. define the arrays for each relevant column\n",
    "    arr_meter_id = arr_temp[:, 0]\n",
    "    arr_kwh = arr_temp[:, 1]\n",
    "    arr_rate_p_per_kwh = arr_temp[:, 2]\n",
    "\n",
    "    # 9. calculate rate in p as indicated by the example\n",
    "    arr_rate_p = np.multiply(arr_kwh, arr_rate_p_per_kwh)\n",
    "\n",
    "    # 10. get unique meter_id's and their indices\n",
    "    unique_meter_id, meter_id_indices = np.unique(arr_meter_id, return_inverse=True)\n",
    "\n",
    "    # 11. use np.bincount to sum kwh values based on meter id indices and round to 2 decimals after comma\n",
    "    sums_kwh = np.round(np.bincount(meter_id_indices, weights=arr_kwh), decimals=2)\n",
    "\n",
    "    # 12. use np.bincount to sum rate_p values based on meter id indices\n",
    "    sums_rate_p = np.bincount(meter_id_indices, weights=arr_rate_p)\n",
    "\n",
    "    # 13. calculate sums_rate_pounds based on sums_rate_p and round to 2 decimals after comma\n",
    "    sums_rate_pounds = np.round(0.01 * sums_rate_p, decimals=2)\n",
    "\n",
    "    # 14. create the requested dataframe based on the different arrays\n",
    "    data = np.column_stack((unique_meter_id, sums_kwh, sums_rate_pounds))\n",
    "    df_transportation_cost = pd.DataFrame(\n",
    "        data,\n",
    "        columns=['meter_id', 'Total Estimated Consumption (kWh)', 'Total Cost (£)']\n",
    "    )\n",
    "    # 15. convert meter_id column from float to int type\n",
    "    df_transportation_cost['meter_id'] = df_transportation_cost['meter_id'].astype(int)\n",
    "\n",
    "    return df_transportation_cost"
   ]
  },
  {
   "cell_type": "markdown",
   "metadata": {
    "pycharm": {
     "name": "#%% md\n"
    }
   },
   "source": [
    "We quickly verify whether this function generates the expected result."
   ]
  },
  {
   "cell_type": "code",
   "execution_count": 42,
   "metadata": {
    "pycharm": {
     "name": "#%%\n"
    }
   },
   "outputs": [
    {
     "data": {
      "text/html": [
       "<div>\n",
       "<style scoped>\n",
       "    .dataframe tbody tr th:only-of-type {\n",
       "        vertical-align: middle;\n",
       "    }\n",
       "\n",
       "    .dataframe tbody tr th {\n",
       "        vertical-align: top;\n",
       "    }\n",
       "\n",
       "    .dataframe thead th {\n",
       "        text-align: right;\n",
       "    }\n",
       "</style>\n",
       "<table border=\"1\" class=\"dataframe\">\n",
       "  <thead>\n",
       "    <tr style=\"text-align: right;\">\n",
       "      <th></th>\n",
       "      <th>meter_id</th>\n",
       "      <th>Total Estimated Consumption (kWh)</th>\n",
       "      <th>Total Cost (£)</th>\n",
       "    </tr>\n",
       "  </thead>\n",
       "  <tbody>\n",
       "    <tr>\n",
       "      <th>0</th>\n",
       "      <td>14676236</td>\n",
       "      <td>28978.0</td>\n",
       "      <td>100.15</td>\n",
       "    </tr>\n",
       "    <tr>\n",
       "      <th>1</th>\n",
       "      <td>34509937</td>\n",
       "      <td>78324.0</td>\n",
       "      <td>275.49</td>\n",
       "    </tr>\n",
       "    <tr>\n",
       "      <th>2</th>\n",
       "      <td>50264822</td>\n",
       "      <td>265667.0</td>\n",
       "      <td>731.24</td>\n",
       "    </tr>\n",
       "    <tr>\n",
       "      <th>3</th>\n",
       "      <td>88357331</td>\n",
       "      <td>484399.0</td>\n",
       "      <td>1433.16</td>\n",
       "    </tr>\n",
       "  </tbody>\n",
       "</table>\n",
       "</div>"
      ],
      "text/plain": [
       "   meter_id  Total Estimated Consumption (kWh)  Total Cost (£)\n",
       "0  14676236                            28978.0          100.15\n",
       "1  34509937                            78324.0          275.49\n",
       "2  50264822                           265667.0          731.24\n",
       "3  88357331                           484399.0         1433.16"
      ]
     },
     "execution_count": 42,
     "metadata": {},
     "output_type": "execute_result"
    }
   ],
   "source": [
    "df_transportation_cost_test = improved_calculate_transportation_cost_table(\n",
    "    df_meter_list=dict_df_calc['meter_list'],\n",
    "    df_forecast_table=dict_df_calc['forecast_table'],\n",
    ")\n",
    "df_transportation_cost_test"
   ]
  },
  {
   "cell_type": "code",
   "execution_count": 43,
   "metadata": {
    "pycharm": {
     "name": "#%%\n"
    }
   },
   "outputs": [
    {
     "name": "stdout",
     "output_type": "stream",
     "text": [
      "Not optimized: \n",
      "Execution time for meter list of size 10 and consumption forecasts over period of 10 days: 0.01679515838623047 seconds\n",
      "Optimized: \n",
      "Execution time for meter list of size 10 and consumption forecasts over period of 10 days: 0.01018071174621582 seconds\n",
      "\n",
      "\n",
      "Not optimized: \n",
      "Execution time for meter list of size 10 and consumption forecasts over period of 100 days: 0.020786046981811523 seconds\n",
      "Optimized: \n",
      "Execution time for meter list of size 10 and consumption forecasts over period of 100 days: 0.016891956329345703 seconds\n",
      "\n",
      "\n",
      "Not optimized: \n",
      "Execution time for meter list of size 100 and consumption forecasts over period of 10 days: 0.0202481746673584 seconds\n",
      "Optimized: \n",
      "Execution time for meter list of size 100 and consumption forecasts over period of 10 days: 0.018362045288085938 seconds\n",
      "\n",
      "\n",
      "Not optimized: \n",
      "Execution time for meter list of size 100 and consumption forecasts over period of 100 days: 0.07036399841308594 seconds\n",
      "Optimized: \n",
      "Execution time for meter list of size 100 and consumption forecasts over period of 100 days: 0.07072877883911133 seconds\n",
      "\n",
      "\n",
      "Not optimized: \n",
      "Execution time for meter list of size 1000 and consumption forecasts over period of 10 days: 0.06568098068237305 seconds\n",
      "Optimized: \n",
      "Execution time for meter list of size 1000 and consumption forecasts over period of 10 days: 0.07045197486877441 seconds\n",
      "\n",
      "\n",
      "Not optimized: \n",
      "Execution time for meter list of size 1000 and consumption forecasts over period of 100 days: 0.4087550640106201 seconds\n",
      "Optimized: \n",
      "Execution time for meter list of size 1000 and consumption forecasts over period of 100 days: 0.3963656425476074 seconds\n",
      "\n",
      "\n",
      "Not optimized: \n",
      "Execution time for meter list of size 10000 and consumption forecasts over period of 10 days: 0.45433974266052246 seconds\n",
      "Optimized: \n",
      "Execution time for meter list of size 10000 and consumption forecasts over period of 10 days: 0.43514227867126465 seconds\n",
      "\n",
      "\n",
      "Not optimized: \n",
      "Execution time for meter list of size 10000 and consumption forecasts over period of 100 days: 6.589936971664429 seconds\n",
      "Optimized: \n",
      "Execution time for meter list of size 10000 and consumption forecasts over period of 100 days: 5.232985973358154 seconds\n",
      "\n",
      "\n",
      "Not optimized: \n",
      "Execution time for meter list of size 100000 and consumption forecasts over period of 10 days: 6.927767992019653 seconds\n",
      "Optimized: \n",
      "Execution time for meter list of size 100000 and consumption forecasts over period of 10 days: 5.48569393157959 seconds\n",
      "\n",
      "\n",
      "Not optimized: \n",
      "Execution time for meter list of size 100000 and consumption forecasts over period of 100 days: 243.32941007614136 seconds\n",
      "Optimized: \n",
      "Execution time for meter list of size 100000 and consumption forecasts over period of 100 days: 236.73975610733032 seconds\n",
      "\n",
      "\n"
     ]
    }
   ],
   "source": [
    "size_lst = [10, 100, 1000, 10000, 100000]\n",
    "duration_lst = [10, 100]\n",
    "\n",
    "for size in size_lst:\n",
    "    for duration in duration_lst:\n",
    "        print(\"Not optimized: \")\n",
    "        benchmark_calc_transportation_cost_table_functions(\n",
    "            func=calculate_transportation_cost_table,\n",
    "            size=size,\n",
    "            duration=duration,\n",
    "            seed=42,\n",
    "        )\n",
    "        print(\"Optimized: \")\n",
    "        benchmark_calc_transportation_cost_table_functions(\n",
    "            func=improved_calculate_transportation_cost_table,\n",
    "            size=size,\n",
    "            duration=duration,\n",
    "            seed=42,\n",
    "        )\n",
    "        print(\"\\n\")"
   ]
  },
  {
   "cell_type": "markdown",
   "metadata": {
    "pycharm": {
     "name": "#%% md\n"
    }
   },
   "source": [
    "For larger (size, period)-combinations, we observe significant improvements in terms of performance. We can definitely find more ways to improve the performance, but this requires further investigation."
   ]
  },
  {
   "cell_type": "code",
   "execution_count": null,
   "metadata": {
    "pycharm": {
     "name": "#%%\n"
    }
   },
   "outputs": [],
   "source": []
  }
 ],
 "metadata": {
  "kernelspec": {
   "display_name": "Python 3",
   "language": "python",
   "name": "python3"
  },
  "language_info": {
   "codemirror_mode": {
    "name": "ipython",
    "version": 3
   },
   "file_extension": ".py",
   "mimetype": "text/x-python",
   "name": "python",
   "nbconvert_exporter": "python",
   "pygments_lexer": "ipython3",
   "version": "3.8.7"
  }
 },
 "nbformat": 4,
 "nbformat_minor": 4
}